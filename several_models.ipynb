{
 "cells": [
  {
   "cell_type": "code",
   "execution_count": 56,
   "metadata": {
    "collapsed": false
   },
   "outputs": [],
   "source": [
    "import pandas as pd\n",
    "from sklearn import linear_model\n",
    "import matplotlib.pyplot as plt \n",
    "%matplotlib inline\n",
    "import seaborn as sns\n",
    "import numpy as np\n",
    "import scipy.stats as sp"
   ]
  },
  {
   "cell_type": "code",
   "execution_count": 67,
   "metadata": {
    "collapsed": true
   },
   "outputs": [],
   "source": [
    "training_data = pd.read_csv('./training_matrix.binary.csv', index_col=0).transpose()\n",
    "testing_data = pd.read_csv('./testing_matrix.binary.csv', index_col=0).transpose()"
   ]
  },
  {
   "cell_type": "code",
   "execution_count": 68,
   "metadata": {
    "collapsed": false
   },
   "outputs": [
    {
     "data": {
      "text/html": [
       "<div style=\"max-height:1000px;max-width:1500px;overflow:auto;\">\n",
       "<table border=\"1\" class=\"dataframe\">\n",
       "  <thead>\n",
       "    <tr style=\"text-align: right;\">\n",
       "      <th></th>\n",
       "      <th>GTA[TC]GG[GA]TG</th>\n",
       "      <th>TTTTTTTTC</th>\n",
       "      <th>ATGT[AG]TGGG</th>\n",
       "      <th>TT[TC]TTTTTT</th>\n",
       "      <th>[TG]C[CG]GCCT[AG][GC]</th>\n",
       "      <th>ATC[CT]GTACA</th>\n",
       "      <th>TTTTTC[AC]A</th>\n",
       "      <th>CCCGGCCC</th>\n",
       "      <th>GGCCCTGGC</th>\n",
       "      <th>[TC][CG][GC]CGCGTC</th>\n",
       "    </tr>\n",
       "  </thead>\n",
       "  <tbody>\n",
       "    <tr>\n",
       "      <th>RPL11A</th>\n",
       "      <td> 1</td>\n",
       "      <td> 1</td>\n",
       "      <td> 0</td>\n",
       "      <td> 1</td>\n",
       "      <td> 0</td>\n",
       "      <td> 0</td>\n",
       "      <td> 0</td>\n",
       "      <td> 0</td>\n",
       "      <td> 0</td>\n",
       "      <td> 0</td>\n",
       "    </tr>\n",
       "    <tr>\n",
       "      <th>RPL12B</th>\n",
       "      <td> 0</td>\n",
       "      <td> 0</td>\n",
       "      <td> 0</td>\n",
       "      <td> 0</td>\n",
       "      <td> 0</td>\n",
       "      <td> 0</td>\n",
       "      <td> 0</td>\n",
       "      <td> 0</td>\n",
       "      <td> 0</td>\n",
       "      <td> 0</td>\n",
       "    </tr>\n",
       "    <tr>\n",
       "      <th>RPL21A</th>\n",
       "      <td> 0</td>\n",
       "      <td> 0</td>\n",
       "      <td> 0</td>\n",
       "      <td> 0</td>\n",
       "      <td> 0</td>\n",
       "      <td> 0</td>\n",
       "      <td> 0</td>\n",
       "      <td> 0</td>\n",
       "      <td> 0</td>\n",
       "      <td> 0</td>\n",
       "    </tr>\n",
       "    <tr>\n",
       "      <th>RPL21B</th>\n",
       "      <td> 0</td>\n",
       "      <td> 0</td>\n",
       "      <td> 0</td>\n",
       "      <td> 0</td>\n",
       "      <td> 0</td>\n",
       "      <td> 0</td>\n",
       "      <td> 0</td>\n",
       "      <td> 0</td>\n",
       "      <td> 0</td>\n",
       "      <td> 0</td>\n",
       "    </tr>\n",
       "    <tr>\n",
       "      <th>RPL26A</th>\n",
       "      <td> 0</td>\n",
       "      <td> 1</td>\n",
       "      <td> 1</td>\n",
       "      <td> 1</td>\n",
       "      <td> 0</td>\n",
       "      <td> 1</td>\n",
       "      <td> 0</td>\n",
       "      <td> 0</td>\n",
       "      <td> 0</td>\n",
       "      <td> 0</td>\n",
       "    </tr>\n",
       "  </tbody>\n",
       "</table>\n",
       "</div>"
      ],
      "text/plain": [
       "        GTA[TC]GG[GA]TG  TTTTTTTTC  ATGT[AG]TGGG  TT[TC]TTTTTT  \\\n",
       "RPL11A                1          1             0             1   \n",
       "RPL12B                0          0             0             0   \n",
       "RPL21A                0          0             0             0   \n",
       "RPL21B                0          0             0             0   \n",
       "RPL26A                0          1             1             1   \n",
       "\n",
       "        [TG]C[CG]GCCT[AG][GC]  ATC[CT]GTACA  TTTTTC[AC]A  CCCGGCCC  GGCCCTGGC  \\\n",
       "RPL11A                      0             0            0         0          0   \n",
       "RPL12B                      0             0            0         0          0   \n",
       "RPL21A                      0             0            0         0          0   \n",
       "RPL21B                      0             0            0         0          0   \n",
       "RPL26A                      0             1            0         0          0   \n",
       "\n",
       "        [TC][CG][GC]CGCGTC  \n",
       "RPL11A                   0  \n",
       "RPL12B                   0  \n",
       "RPL21A                   0  \n",
       "RPL21B                   0  \n",
       "RPL26A                   0  "
      ]
     },
     "execution_count": 68,
     "metadata": {},
     "output_type": "execute_result"
    }
   ],
   "source": [
    "testing_data.head()"
   ]
  },
  {
   "cell_type": "code",
   "execution_count": 69,
   "metadata": {
    "collapsed": false
   },
   "outputs": [],
   "source": [
    "training_output = [x.strip().split('\\t')[1] for x in open('./DREAM6_ExPred_PromoterActivities.txt').readlines()]\n",
    "testing_output = [x.strip().split('\\t')[1] for x in open('./dream6_expred_predictions_gold_standard_0.txt').readlines()[1:]]"
   ]
  },
  {
   "cell_type": "code",
   "execution_count": 70,
   "metadata": {
    "collapsed": false
   },
   "outputs": [
    {
     "name": "stdout",
     "output_type": "stream",
     "text": [
      "0.127089469116\n",
      "(0.33758491663008705, 0.0011382162322665409)\n",
      "0.0840954203644\n"
     ]
    },
    {
     "data": {
      "text/plain": [
       "(0.25005359724305215, 0.070947039547954435)"
      ]
     },
     "execution_count": 70,
     "metadata": {},
     "output_type": "execute_result"
    }
   ],
   "source": [
    "#Binary features\n",
    "clf = linear_model.LinearRegression()\n",
    "clf.fit(np.array(training_data), np.array(training_output).astype(np.float))\n",
    "#Score on training data\n",
    "print clf.score(training_data, np.array(training_output).astype(np.float))\n",
    "predicted_output = clf.predict(training_data)\n",
    "print sp.spearmanr(training_output, predicted_output)\n",
    "#Score on testing data\n",
    "print clf.score(testing_data, np.array(testing_output).astype(np.float))\n",
    "predicted_output = clf.predict(testing_data)\n",
    "sp.spearmanr(testing_output, predicted_output)"
   ]
  },
  {
   "cell_type": "code",
   "execution_count": 66,
   "metadata": {
    "collapsed": false
   },
   "outputs": [
    {
     "name": "stdout",
     "output_type": "stream",
     "text": [
      "0.137058455865\n",
      "(0.2926856384989539, 0.0051193204914292733)\n",
      "0.0523193154035\n"
     ]
    },
    {
     "data": {
      "text/plain": [
       "(0.24185795982278877, 0.081024333802745693)"
      ]
     },
     "execution_count": 66,
     "metadata": {},
     "output_type": "execute_result"
    }
   ],
   "source": [
    "#Numerical features\n",
    "clf = linear_model.LinearRegression()\n",
    "clf.fit(np.array(training_data), np.array(training_output).astype(np.float))\n",
    "#Score on training data\n",
    "print clf.score(training_data, np.array(training_output).astype(np.float))\n",
    "predicted_output = clf.predict(training_data)\n",
    "print sp.spearmanr(training_output, predicted_output)\n",
    "#Score on testing data\n",
    "print clf.score(testing_data, np.array(testing_output).astype(np.float))\n",
    "predicted_output = clf.predict(testing_data)\n",
    "sp.spearmanr(testing_output, predicted_output)"
   ]
  },
  {
   "cell_type": "code",
   "execution_count": null,
   "metadata": {
    "collapsed": true
   },
   "outputs": [],
   "source": []
  },
  {
   "cell_type": "code",
   "execution_count": 60,
   "metadata": {
    "collapsed": false
   },
   "outputs": [
    {
     "data": {
      "text/plain": [
       "<matplotlib.collections.PathCollection at 0x10c19ab90>"
      ]
     },
     "execution_count": 60,
     "metadata": {},
     "output_type": "execute_result"
    },
    {
     "data": {
      "image/png": "[encoded data removed]",
      "text/plain": [
       "<matplotlib.figure.Figure at 0x10c0565d0>"
      ]
     },
     "metadata": {},
     "output_type": "display_data"
    }
   ],
   "source": [
    "plt.scatter(testing_output, predicted_output)"
   ]
  },
  {
   "cell_type": "code",
   "execution_count": 54,
   "metadata": {
    "collapsed": false
   },
   "outputs": [
    {
     "name": "stdout",
     "output_type": "stream",
     "text": [
      "0.0523040113906\n"
     ]
    },
    {
     "data": {
      "text/plain": [
       "0.081024333802745693"
      ]
     },
     "execution_count": 54,
     "metadata": {},
     "output_type": "execute_result"
    }
   ],
   "source": [
    "clf = linear_model.Lasso(alpha = 0.0001)\n",
    "clf.fit(np.array(training_data), np.array(training_output).astype(np.float))\n",
    "print clf.score(testing_data, np.array(testing_output).astype(np.float))\n",
    "predicted_output = clf.predict(testing_data)\n",
    "sp.spearmanr(testing_output, predicted_output)[1]"
   ]
  },
  {
   "cell_type": "code",
   "execution_count": null,
   "metadata": {
    "collapsed": true
   },
   "outputs": [],
   "source": []
  }
 ],
 "metadata": {
  "kernelspec": {
   "display_name": "Python 2",
   "language": "python",
   "name": "python2"
  },
  "language_info": {
   "codemirror_mode": {
    "name": "ipython",
    "version": 2
   },
   "file_extension": ".py",
   "mimetype": "text/x-python",
   "name": "python",
   "nbconvert_exporter": "python",
   "pygments_lexer": "ipython2",
   "version": "2.7.7"
  }
 },
 "nbformat": 4,
 "nbformat_minor": 0
}
