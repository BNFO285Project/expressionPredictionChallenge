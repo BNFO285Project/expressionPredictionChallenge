{
 "cells": [
  {
   "cell_type": "code",
   "execution_count": 104,
   "metadata": {
    "collapsed": true
   },
   "outputs": [],
   "source": [
    "import pandas as pd\n",
    "from Bio import SeqIO\n",
    "import re"
   ]
  },
  {
   "cell_type": "markdown",
   "metadata": {},
   "source": [
    "###Exploration"
   ]
  },
  {
   "cell_type": "code",
   "execution_count": 41,
   "metadata": {
    "collapsed": false
   },
   "outputs": [],
   "source": [
    "training_output = pd.read_csv('./DREAM6_ExPred_PromoterActivities.txt', sep='\\t', header=None)\n",
    "training_output.columns = ['promoter', 'value']"
   ]
  },
  {
   "cell_type": "code",
   "execution_count": 42,
   "metadata": {
    "collapsed": false
   },
   "outputs": [
    {
     "data": {
      "text/html": [
       "<div style=\"max-height:1000px;max-width:1500px;overflow:auto;\">\n",
       "<table border=\"1\" class=\"dataframe\">\n",
       "  <thead>\n",
       "    <tr style=\"text-align: right;\">\n",
       "      <th></th>\n",
       "      <th>promoter</th>\n",
       "      <th>value</th>\n",
       "    </tr>\n",
       "  </thead>\n",
       "  <tbody>\n",
       "    <tr>\n",
       "      <th>0</th>\n",
       "      <td>  RPL10</td>\n",
       "      <td> 2.84</td>\n",
       "    </tr>\n",
       "    <tr>\n",
       "      <th>1</th>\n",
       "      <td> RPL11B</td>\n",
       "      <td> 1.59</td>\n",
       "    </tr>\n",
       "    <tr>\n",
       "      <th>2</th>\n",
       "      <td> RPL12A</td>\n",
       "      <td> 0.92</td>\n",
       "    </tr>\n",
       "    <tr>\n",
       "      <th>3</th>\n",
       "      <td> RPL13A</td>\n",
       "      <td> 1.20</td>\n",
       "    </tr>\n",
       "    <tr>\n",
       "      <th>4</th>\n",
       "      <td> RPL13B</td>\n",
       "      <td> 1.66</td>\n",
       "    </tr>\n",
       "  </tbody>\n",
       "</table>\n",
       "</div>"
      ],
      "text/plain": [
       "  promoter  value\n",
       "0    RPL10   2.84\n",
       "1   RPL11B   1.59\n",
       "2   RPL12A   0.92\n",
       "3   RPL13A   1.20\n",
       "4   RPL13B   1.66"
      ]
     },
     "execution_count": 42,
     "metadata": {},
     "output_type": "execute_result"
    }
   ],
   "source": [
    "training_output.head()"
   ]
  },
  {
   "cell_type": "code",
   "execution_count": 43,
   "metadata": {
    "collapsed": false
   },
   "outputs": [
    {
     "data": {
      "text/plain": [
       "90"
      ]
     },
     "execution_count": 43,
     "metadata": {},
     "output_type": "execute_result"
    }
   ],
   "source": [
    "len(training_output)"
   ]
  },
  {
   "cell_type": "markdown",
   "metadata": {},
   "source": [
    "ideas: Methylation levels (epigram), DNA Polymerase chipseq (?), motifs for transcription factors"
   ]
  },
  {
   "cell_type": "markdown",
   "metadata": {},
   "source": [
    "###Create input for Meme-Suite"
   ]
  },
  {
   "cell_type": "code",
   "execution_count": 44,
   "metadata": {
    "collapsed": false
   },
   "outputs": [],
   "source": [
    "names, seqs = [], []\n",
    "handle = open(\"./DREAM6_ExPred_Promoters.fasta\", \"rU\")\n",
    "for record in SeqIO.parse(handle, \"fasta\") :\n",
    "    names.append(record.name)\n",
    "    seqs.append(record.seq)\n",
    "handle.close()"
   ]
  },
  {
   "cell_type": "code",
   "execution_count": 45,
   "metadata": {
    "collapsed": false,
    "scrolled": true
   },
   "outputs": [
    {
     "name": "stdout",
     "output_type": "stream",
     "text": [
      "450\n",
      "1100\n",
      "1782\n",
      "2416\n",
      "3135\n",
      "4307\n",
      "4613\n",
      "5295\n",
      "6260\n",
      "6958\n",
      "7622\n",
      "8074\n",
      "9205\n",
      "9767\n",
      "10132\n",
      "10905\n",
      "11512\n",
      "12156\n",
      "12583\n",
      "13111\n",
      "13573\n",
      "14149\n",
      "15016\n",
      "15849\n",
      "16404\n",
      "17062\n",
      "18191\n",
      "19343\n",
      "19973\n",
      "21120\n",
      "21780\n",
      "22560\n",
      "23353\n",
      "23684\n",
      "24112\n",
      "24900\n",
      "25494\n",
      "26131\n",
      "27184\n",
      "27570\n",
      "28189\n",
      "28943\n",
      "29435\n",
      "30591\n",
      "30804\n",
      "31998\n",
      "32500\n",
      "33457\n",
      "34382\n",
      "34772\n",
      "35122\n",
      "36321\n",
      "37101\n",
      "37611\n",
      "38084\n",
      "38803\n",
      "39608\n",
      "40102\n",
      "40693\n",
      "41163\n",
      "41693\n",
      "42034\n",
      "43184\n",
      "43556\n",
      "44272\n",
      "44906\n",
      "45917\n",
      "46486\n",
      "47013\n",
      "47419\n",
      "48024\n",
      "48923\n",
      "49546\n",
      "49835\n",
      "50732\n",
      "51226\n",
      "51691\n",
      "52414\n",
      "53101\n",
      "53533\n",
      "54087\n",
      "54381\n",
      "55561\n",
      "56660\n",
      "57442\n",
      "58166\n",
      "58879\n",
      "60062\n",
      "60629\n",
      "61493\n"
     ]
    }
   ],
   "source": [
    "total = 0\n",
    "for seq in seqs:\n",
    "    total += len(seq)\n",
    "    print total"
   ]
  },
  {
   "cell_type": "code",
   "execution_count": 46,
   "metadata": {
    "collapsed": false
   },
   "outputs": [],
   "source": [
    "with open('./training_promoters.4_90.fasta', 'w') as f:\n",
    "    for i, name in enumerate(names[3:]):\n",
    "        f.write('>{0}\\n'.format(name))\n",
    "        f.write('{0}\\n'.format(seqs[i]))"
   ]
  },
  {
   "cell_type": "markdown",
   "metadata": {},
   "source": [
    "Searching for 10 motifs of length 8 or 9"
   ]
  },
  {
   "cell_type": "markdown",
   "metadata": {},
   "source": [
    "###Strip output file and consolidate into matrix"
   ]
  },
  {
   "cell_type": "code",
   "execution_count": 81,
   "metadata": {
    "collapsed": true
   },
   "outputs": [],
   "source": [
    "def get_info(in_file):\n",
    "    lines = [x.strip() for x in open(in_file).readlines()]\n",
    "    number_of_lines = len(lines)\n",
    "    motifs = []\n",
    "    sequences_with_motifs = []\n",
    "    regular_expressions = []\n",
    "    i = 0\n",
    "    while i < number_of_lines:\n",
    "        line = lines[i]\n",
    "        if 'regular expression' in line:\n",
    "            i += 2\n",
    "            regular_expressions.append(lines[i])\n",
    "        if 'Multilevel' in line:\n",
    "            motif = line.split(' ')[-1]\n",
    "            print motif\n",
    "            motifs.append(motif)\n",
    "            sequences_with_motif = []\n",
    "            i += 11\n",
    "            while lines[i][0] is not '-':\n",
    "                sequences_with_motif.append(lines[i].split(' ')[0])\n",
    "                i+=1\n",
    "            sequences_with_motifs.append(sequences_with_motif)\n",
    "        i+=1\n",
    "    return motifs, sequences_with_motifs, regular_expressions"
   ]
  },
  {
   "cell_type": "code",
   "execution_count": 82,
   "metadata": {
    "collapsed": false
   },
   "outputs": [
    {
     "name": "stdout",
     "output_type": "stream",
     "text": [
      "GTATGGGTG\n",
      "TTTTTTTTC\n",
      "ATGTATGGG\n",
      "TTTTTTTTT\n",
      "TCCGCCTAG\n",
      "ATCCGTACA\n",
      "TTTTTCAA\n",
      "CCCGGCCC\n",
      "GGCCCTGGC\n",
      "TCGCGCGTC\n",
      "GTATGGGTG\n",
      "TTTTTTTTC\n",
      "ATGTATGGG\n",
      "TTTTTTTTT\n",
      "TCCGCCTAG\n",
      "ATCCGTACA\n",
      "TTTTTCAA\n",
      "CCCGGCCC\n",
      "GGCCCTGGC\n",
      "TCGCGCGTC\n"
     ]
    }
   ],
   "source": [
    "motifs1, sequences_with_motifs1, regular_expressions1 = get_info('./1_87.txt')\n",
    "motifs2, sequences_with_motifs2, regular_expressions2 = get_info('./4_90.txt')"
   ]
  },
  {
   "cell_type": "code",
   "execution_count": 83,
   "metadata": {
    "collapsed": false
   },
   "outputs": [
    {
     "data": {
      "text/plain": [
       "['GTA[TC]GG[GA]TG',\n",
       " 'TTTTTTTTC',\n",
       " 'ATGT[AG]TGGG',\n",
       " 'TT[TC]TTTTTT',\n",
       " '[TG]C[CG]GCCT[AG][GC]',\n",
       " 'ATC[CT]GTACA',\n",
       " 'TTTTTC[AC]A',\n",
       " 'CCCGGCCC',\n",
       " 'GGCCCTGGC',\n",
       " '[TC][CG][GC]CGCGTC']"
      ]
     },
     "execution_count": 83,
     "metadata": {},
     "output_type": "execute_result"
    }
   ],
   "source": [
    "regular_expressions1"
   ]
  },
  {
   "cell_type": "markdown",
   "metadata": {},
   "source": [
    "Somehow merge the the two files together"
   ]
  },
  {
   "cell_type": "code",
   "execution_count": 84,
   "metadata": {
    "collapsed": false
   },
   "outputs": [],
   "source": [
    "motifs = motifs1\n",
    "sequences_with_motifs = sequences_with_motifs1\n",
    "regular_expressions = regular_expressions1\n",
    "for i, motif in enumerate(motifs2):\n",
    "    if motif in motifs1:\n",
    "        position = motifs1.index(motif)\n",
    "        # need to only extend the difference between the two lists\n",
    "        sequences_with_motifs[position].extend([x for x in sequences_with_motifs2[i] if x not in sequences_with_motifs[position]])\n",
    "    else:\n",
    "        motifs.append(motif)\n",
    "        sequences_with_motifs.append(sequences_with_motifs2[i])\n",
    "        regular_expressions.append(regular_expressions2[i])"
   ]
  },
  {
   "cell_type": "code",
   "execution_count": 87,
   "metadata": {
    "collapsed": false
   },
   "outputs": [
    {
     "name": "stdout",
     "output_type": "stream",
     "text": [
      "10\n",
      "10\n"
     ]
    }
   ],
   "source": [
    "print len(motifs)\n",
    "print len(sequences_with_motifs)"
   ]
  },
  {
   "cell_type": "code",
   "execution_count": 88,
   "metadata": {
    "collapsed": false
   },
   "outputs": [],
   "source": [
    "matrix = [[0 for x in names] for y in motifs]\n",
    "for y, seqs_with_motif in enumerate(sequences_with_motifs):\n",
    "    for x, seq in enumerate(names):\n",
    "        matrix[y][x] = seqs_with_motif.count(seq)"
   ]
  },
  {
   "cell_type": "code",
   "execution_count": 90,
   "metadata": {
    "collapsed": true
   },
   "outputs": [],
   "source": [
    "with open('./training_matrix.csv', 'w') as f:\n",
    "    f.write(',{0}\\n'.format(','.join(names)))\n",
    "    for i, x in enumerate(matrix):\n",
    "        f.write('{0},{1}\\n'.format(regular_expressions[i], ','.join([str(k) for k in x])))"
   ]
  },
  {
   "cell_type": "code",
   "execution_count": 91,
   "metadata": {
    "collapsed": false
   },
   "outputs": [
    {
     "data": {
      "text/html": [
       "<div style=\"max-height:1000px;max-width:1500px;overflow:auto;\">\n",
       "<table border=\"1\" class=\"dataframe\">\n",
       "  <thead>\n",
       "    <tr style=\"text-align: right;\">\n",
       "      <th></th>\n",
       "      <th>RPL10</th>\n",
       "      <th>RPL11B</th>\n",
       "      <th>RPL12A</th>\n",
       "      <th>RPL13A</th>\n",
       "      <th>RPL13B</th>\n",
       "      <th>RPL14A</th>\n",
       "      <th>RPL14B</th>\n",
       "      <th>RPL15A</th>\n",
       "      <th>RPL15B</th>\n",
       "      <th>RPL16B</th>\n",
       "      <th>...</th>\n",
       "      <th>RPS27B</th>\n",
       "      <th>RPS28B</th>\n",
       "      <th>RPS3</th>\n",
       "      <th>RPS4A</th>\n",
       "      <th>RPS4B</th>\n",
       "      <th>RPS6A</th>\n",
       "      <th>RPS6B</th>\n",
       "      <th>RPS7A</th>\n",
       "      <th>RPS7B</th>\n",
       "      <th>RPS9A</th>\n",
       "    </tr>\n",
       "  </thead>\n",
       "  <tbody>\n",
       "    <tr>\n",
       "      <th>GTA[TC]GG[GA]TG</th>\n",
       "      <td> 0</td>\n",
       "      <td> 1</td>\n",
       "      <td> 0</td>\n",
       "      <td> 1</td>\n",
       "      <td> 2</td>\n",
       "      <td> 1</td>\n",
       "      <td> 1</td>\n",
       "      <td> 2</td>\n",
       "      <td> 1</td>\n",
       "      <td> 0</td>\n",
       "      <td>...</td>\n",
       "      <td> 1</td>\n",
       "      <td> 0</td>\n",
       "      <td> 1</td>\n",
       "      <td> 1</td>\n",
       "      <td> 1</td>\n",
       "      <td> 1</td>\n",
       "      <td> 1</td>\n",
       "      <td> 1</td>\n",
       "      <td> 1</td>\n",
       "      <td> 1</td>\n",
       "    </tr>\n",
       "    <tr>\n",
       "      <th>TTTTTTTTC</th>\n",
       "      <td> 2</td>\n",
       "      <td> 1</td>\n",
       "      <td> 0</td>\n",
       "      <td> 2</td>\n",
       "      <td> 1</td>\n",
       "      <td> 2</td>\n",
       "      <td> 1</td>\n",
       "      <td> 0</td>\n",
       "      <td> 1</td>\n",
       "      <td> 1</td>\n",
       "      <td>...</td>\n",
       "      <td> 2</td>\n",
       "      <td> 2</td>\n",
       "      <td> 2</td>\n",
       "      <td> 1</td>\n",
       "      <td> 2</td>\n",
       "      <td> 2</td>\n",
       "      <td> 2</td>\n",
       "      <td> 0</td>\n",
       "      <td> 0</td>\n",
       "      <td> 2</td>\n",
       "    </tr>\n",
       "    <tr>\n",
       "      <th>ATGT[AG]TGGG</th>\n",
       "      <td> 0</td>\n",
       "      <td> 1</td>\n",
       "      <td> 1</td>\n",
       "      <td> 1</td>\n",
       "      <td> 1</td>\n",
       "      <td> 1</td>\n",
       "      <td> 1</td>\n",
       "      <td> 0</td>\n",
       "      <td> 0</td>\n",
       "      <td> 1</td>\n",
       "      <td>...</td>\n",
       "      <td> 1</td>\n",
       "      <td> 1</td>\n",
       "      <td> 0</td>\n",
       "      <td> 1</td>\n",
       "      <td> 1</td>\n",
       "      <td> 1</td>\n",
       "      <td> 0</td>\n",
       "      <td> 1</td>\n",
       "      <td> 1</td>\n",
       "      <td> 0</td>\n",
       "    </tr>\n",
       "    <tr>\n",
       "      <th>TT[TC]TTTTTT</th>\n",
       "      <td> 1</td>\n",
       "      <td> 0</td>\n",
       "      <td> 0</td>\n",
       "      <td> 1</td>\n",
       "      <td> 0</td>\n",
       "      <td> 0</td>\n",
       "      <td> 0</td>\n",
       "      <td> 1</td>\n",
       "      <td> 0</td>\n",
       "      <td> 0</td>\n",
       "      <td>...</td>\n",
       "      <td> 1</td>\n",
       "      <td> 0</td>\n",
       "      <td> 0</td>\n",
       "      <td> 1</td>\n",
       "      <td> 0</td>\n",
       "      <td> 0</td>\n",
       "      <td> 1</td>\n",
       "      <td> 0</td>\n",
       "      <td> 0</td>\n",
       "      <td> 0</td>\n",
       "    </tr>\n",
       "    <tr>\n",
       "      <th>[TG]C[CG]GCCT[AG][GC]</th>\n",
       "      <td> 0</td>\n",
       "      <td> 0</td>\n",
       "      <td> 2</td>\n",
       "      <td> 2</td>\n",
       "      <td> 1</td>\n",
       "      <td> 1</td>\n",
       "      <td> 2</td>\n",
       "      <td> 1</td>\n",
       "      <td> 1</td>\n",
       "      <td> 0</td>\n",
       "      <td>...</td>\n",
       "      <td> 1</td>\n",
       "      <td> 0</td>\n",
       "      <td> 0</td>\n",
       "      <td> 1</td>\n",
       "      <td> 0</td>\n",
       "      <td> 1</td>\n",
       "      <td> 1</td>\n",
       "      <td> 0</td>\n",
       "      <td> 1</td>\n",
       "      <td> 0</td>\n",
       "    </tr>\n",
       "    <tr>\n",
       "      <th>ATC[CT]GTACA</th>\n",
       "      <td> 0</td>\n",
       "      <td> 0</td>\n",
       "      <td> 1</td>\n",
       "      <td> 0</td>\n",
       "      <td> 1</td>\n",
       "      <td> 1</td>\n",
       "      <td> 0</td>\n",
       "      <td> 1</td>\n",
       "      <td> 0</td>\n",
       "      <td> 1</td>\n",
       "      <td>...</td>\n",
       "      <td> 0</td>\n",
       "      <td> 1</td>\n",
       "      <td> 1</td>\n",
       "      <td> 0</td>\n",
       "      <td> 0</td>\n",
       "      <td> 0</td>\n",
       "      <td> 0</td>\n",
       "      <td> 0</td>\n",
       "      <td> 0</td>\n",
       "      <td> 0</td>\n",
       "    </tr>\n",
       "    <tr>\n",
       "      <th>TTTTTC[AC]A</th>\n",
       "      <td> 0</td>\n",
       "      <td> 0</td>\n",
       "      <td> 0</td>\n",
       "      <td> 2</td>\n",
       "      <td> 0</td>\n",
       "      <td> 1</td>\n",
       "      <td> 2</td>\n",
       "      <td> 1</td>\n",
       "      <td> 1</td>\n",
       "      <td> 0</td>\n",
       "      <td>...</td>\n",
       "      <td> 1</td>\n",
       "      <td> 0</td>\n",
       "      <td> 1</td>\n",
       "      <td> 0</td>\n",
       "      <td> 0</td>\n",
       "      <td> 0</td>\n",
       "      <td> 0</td>\n",
       "      <td> 0</td>\n",
       "      <td> 0</td>\n",
       "      <td> 0</td>\n",
       "    </tr>\n",
       "    <tr>\n",
       "      <th>CCCGGCCC</th>\n",
       "      <td> 0</td>\n",
       "      <td> 0</td>\n",
       "      <td> 0</td>\n",
       "      <td> 0</td>\n",
       "      <td> 0</td>\n",
       "      <td> 0</td>\n",
       "      <td> 0</td>\n",
       "      <td> 0</td>\n",
       "      <td> 0</td>\n",
       "      <td> 0</td>\n",
       "      <td>...</td>\n",
       "      <td> 0</td>\n",
       "      <td> 0</td>\n",
       "      <td> 0</td>\n",
       "      <td> 0</td>\n",
       "      <td> 0</td>\n",
       "      <td> 0</td>\n",
       "      <td> 0</td>\n",
       "      <td> 0</td>\n",
       "      <td> 0</td>\n",
       "      <td> 0</td>\n",
       "    </tr>\n",
       "    <tr>\n",
       "      <th>GGCCCTGGC</th>\n",
       "      <td> 0</td>\n",
       "      <td> 0</td>\n",
       "      <td> 0</td>\n",
       "      <td> 0</td>\n",
       "      <td> 0</td>\n",
       "      <td> 0</td>\n",
       "      <td> 0</td>\n",
       "      <td> 0</td>\n",
       "      <td> 0</td>\n",
       "      <td> 0</td>\n",
       "      <td>...</td>\n",
       "      <td> 0</td>\n",
       "      <td> 0</td>\n",
       "      <td> 0</td>\n",
       "      <td> 1</td>\n",
       "      <td> 0</td>\n",
       "      <td> 0</td>\n",
       "      <td> 1</td>\n",
       "      <td> 0</td>\n",
       "      <td> 0</td>\n",
       "      <td> 0</td>\n",
       "    </tr>\n",
       "    <tr>\n",
       "      <th>[TC][CG][GC]CGCGTC</th>\n",
       "      <td> 0</td>\n",
       "      <td> 0</td>\n",
       "      <td> 1</td>\n",
       "      <td> 0</td>\n",
       "      <td> 1</td>\n",
       "      <td> 1</td>\n",
       "      <td> 0</td>\n",
       "      <td> 1</td>\n",
       "      <td> 0</td>\n",
       "      <td> 0</td>\n",
       "      <td>...</td>\n",
       "      <td> 0</td>\n",
       "      <td> 0</td>\n",
       "      <td> 0</td>\n",
       "      <td> 0</td>\n",
       "      <td> 0</td>\n",
       "      <td> 1</td>\n",
       "      <td> 0</td>\n",
       "      <td> 0</td>\n",
       "      <td> 1</td>\n",
       "      <td> 0</td>\n",
       "    </tr>\n",
       "  </tbody>\n",
       "</table>\n",
       "<p>10 rows × 90 columns</p>\n",
       "</div>"
      ],
      "text/plain": [
       "                       RPL10  RPL11B  RPL12A  RPL13A  RPL13B  RPL14A  RPL14B  \\\n",
       "GTA[TC]GG[GA]TG            0       1       0       1       2       1       1   \n",
       "TTTTTTTTC                  2       1       0       2       1       2       1   \n",
       "ATGT[AG]TGGG               0       1       1       1       1       1       1   \n",
       "TT[TC]TTTTTT               1       0       0       1       0       0       0   \n",
       "[TG]C[CG]GCCT[AG][GC]      0       0       2       2       1       1       2   \n",
       "ATC[CT]GTACA               0       0       1       0       1       1       0   \n",
       "TTTTTC[AC]A                0       0       0       2       0       1       2   \n",
       "CCCGGCCC                   0       0       0       0       0       0       0   \n",
       "GGCCCTGGC                  0       0       0       0       0       0       0   \n",
       "[TC][CG][GC]CGCGTC         0       0       1       0       1       1       0   \n",
       "\n",
       "                       RPL15A  RPL15B  RPL16B   ...    RPS27B  RPS28B  RPS3  \\\n",
       "GTA[TC]GG[GA]TG             2       1       0   ...         1       0     1   \n",
       "TTTTTTTTC                   0       1       1   ...         2       2     2   \n",
       "ATGT[AG]TGGG                0       0       1   ...         1       1     0   \n",
       "TT[TC]TTTTTT                1       0       0   ...         1       0     0   \n",
       "[TG]C[CG]GCCT[AG][GC]       1       1       0   ...         1       0     0   \n",
       "ATC[CT]GTACA                1       0       1   ...         0       1     1   \n",
       "TTTTTC[AC]A                 1       1       0   ...         1       0     1   \n",
       "CCCGGCCC                    0       0       0   ...         0       0     0   \n",
       "GGCCCTGGC                   0       0       0   ...         0       0     0   \n",
       "[TC][CG][GC]CGCGTC          1       0       0   ...         0       0     0   \n",
       "\n",
       "                       RPS4A  RPS4B  RPS6A  RPS6B  RPS7A  RPS7B  RPS9A  \n",
       "GTA[TC]GG[GA]TG            1      1      1      1      1      1      1  \n",
       "TTTTTTTTC                  1      2      2      2      0      0      2  \n",
       "ATGT[AG]TGGG               1      1      1      0      1      1      0  \n",
       "TT[TC]TTTTTT               1      0      0      1      0      0      0  \n",
       "[TG]C[CG]GCCT[AG][GC]      1      0      1      1      0      1      0  \n",
       "ATC[CT]GTACA               0      0      0      0      0      0      0  \n",
       "TTTTTC[AC]A                0      0      0      0      0      0      0  \n",
       "CCCGGCCC                   0      0      0      0      0      0      0  \n",
       "GGCCCTGGC                  1      0      0      1      0      0      0  \n",
       "[TC][CG][GC]CGCGTC         0      0      1      0      0      1      0  \n",
       "\n",
       "[10 rows x 90 columns]"
      ]
     },
     "execution_count": 91,
     "metadata": {},
     "output_type": "execute_result"
    }
   ],
   "source": [
    "pd.read_csv('./training_matrix.csv', index_col=0)"
   ]
  },
  {
   "cell_type": "markdown",
   "metadata": {},
   "source": [
    "###Look for the motifs in test set"
   ]
  },
  {
   "cell_type": "code",
   "execution_count": 100,
   "metadata": {
    "collapsed": true
   },
   "outputs": [],
   "source": [
    "names, seqs = [], []\n",
    "handle = open(\"./DREAM6_ExPred_TestSetPromoters.fasta\", \"rU\")\n",
    "for record in SeqIO.parse(handle, \"fasta\") :\n",
    "    names.append(record.name)\n",
    "    seqs.append(str(record.seq))\n",
    "handle.close()"
   ]
  },
  {
   "cell_type": "code",
   "execution_count": 101,
   "metadata": {
    "collapsed": false
   },
   "outputs": [
    {
     "data": {
      "text/plain": [
       "['RPL11A', 'RPL12B', 'RPL21A', 'RPL21B', 'RPL26A']"
      ]
     },
     "execution_count": 101,
     "metadata": {},
     "output_type": "execute_result"
    }
   ],
   "source": [
    "names[:5]"
   ]
  },
  {
   "cell_type": "code",
   "execution_count": 102,
   "metadata": {
    "collapsed": false
   },
   "outputs": [
    {
     "data": {
      "text/plain": [
       "['GTTTGTTTTTTTTTCCTTCTTTTCTTTCTGGTTTCTTTCTATCTATTCAATTTAATAGTAAATTTGTTATTCTCTTTTGAAAATTGATATATTGAAGCCTTTCTTTACAATTCACCTTGCATTATTGAAGGAGTGCTATTCTTCGTTTTGCCACCCTTTTGCTGTTTTCCCTCATATCACATAATACCCGGAGAGGCTCTTTCCTGCGACAGCGCAACATCCAACCATCCTAAAGGTATGGGTGTACTGACGATGCGATTATTTCATTAAGTTCTGTCTTTTTTGTATAAATGAAAAAAGAACGGTGAAATCCATAGAAATACAGAGAGCGACGCAAACAGCGCGCAGACTCTACGGGTAATAGACTCACATCCACGTGACCAGTTTCCAATCGAACTTTTTCACTTTGCAGGGAATTATTGTTTCACTAGCAAAGGTAGCCCACTTACCACTCAGCTATGCGAAAGTTTCATTGTTTGATACATCTTGATAGTAACCGCAGGCTTCTTTCTTAGTTCATATTTTATTGTATTTCAACTAATATTATTTTTTTTTCAGTGGAAGGGAAGGTGAACCAAGAACATACAAACATAGCCAAAG',\n",
       " 'TTTTTGGTGCGGCCTTCTGCAATTACTGATTAAGTAGCAATTTTCCTTCAAACATCCGTGCACTGTGGATGTTTGGGTTGTGTATTTTGCTTTCATAACATACAGATATTTTGTTTAAGGAAGTGAAATAAACAATATCATAAAACAGGTACTTCATAGACCATAAAGCATAACCCAGATTATCCTCTTAGATAGCAATGCTAATGTAAACAGAGATCCGTTTGCGTGACTTTATACTAATATGATATGTCTACTTCGCTTTGTGTTCGAGCAGCCTGGCAGTCCCCTCTAGCCGCTTTTTTCCCTTTCCGAAGGTTTCCGCCTAAGCCCCCTGGCTCTAGGCCGAGAAAATGTTAATGCTCCTTCTACGAGAAAATGCTTGTCGCCACACCAGGACAGGTGCTCGACGACGCTTCCGCTAATCTTTCTCAATGTTGTATCTTCTTTGGCGGTACATTACTAGTATGAAAATGGAATAAAAACAGTACCTAAATTATTTACTTACTTCCCGTTAAAGCAACCCCAAGTGCCCAATAGAAGGATAAATCAATAGTCAAT']"
      ]
     },
     "execution_count": 102,
     "metadata": {},
     "output_type": "execute_result"
    }
   ],
   "source": [
    "seqs[:2]"
   ]
  },
  {
   "cell_type": "code",
   "execution_count": 124,
   "metadata": {
    "collapsed": false
   },
   "outputs": [],
   "source": [
    "matrix = [[0 for x in names] for y in regular_expressions]\n",
    "for y, regex in enumerate(regular_expressions):\n",
    "    for x, seq in enumerate(seqs):\n",
    "        matrix[y][x] = len(re.findall(regex, seq))"
   ]
  },
  {
   "cell_type": "markdown",
   "metadata": {},
   "source": [
    "###Output the test matrix"
   ]
  },
  {
   "cell_type": "code",
   "execution_count": 125,
   "metadata": {
    "collapsed": false
   },
   "outputs": [],
   "source": [
    "with open('./testing_matrix.csv', 'w') as f:\n",
    "    f.write(',{0}\\n'.format(','.join(names)))\n",
    "    for i, x in enumerate(matrix):\n",
    "        f.write('{0},{1}\\n'.format(regular_expressions[i], ','.join([str(k) for k in x])))"
   ]
  },
  {
   "cell_type": "code",
   "execution_count": 126,
   "metadata": {
    "collapsed": false
   },
   "outputs": [],
   "source": [
    "df = pd.read_csv('./testing_matrix.csv', index_col=0)"
   ]
  },
  {
   "cell_type": "code",
   "execution_count": 127,
   "metadata": {
    "collapsed": false
   },
   "outputs": [
    {
     "data": {
      "text/html": [
       "<div style=\"max-height:1000px;max-width:1500px;overflow:auto;\">\n",
       "<table border=\"1\" class=\"dataframe\">\n",
       "  <thead>\n",
       "    <tr style=\"text-align: right;\">\n",
       "      <th></th>\n",
       "      <th>RPL11A</th>\n",
       "      <th>RPL12B</th>\n",
       "      <th>RPL21A</th>\n",
       "      <th>RPL21B</th>\n",
       "      <th>RPL26A</th>\n",
       "      <th>RPL28</th>\n",
       "      <th>RPL35B</th>\n",
       "      <th>RPL37A</th>\n",
       "      <th>RPL37B</th>\n",
       "      <th>RPL42A</th>\n",
       "      <th>...</th>\n",
       "      <th>RPL7B_Mut1</th>\n",
       "      <th>RPL7B_Mut2</th>\n",
       "      <th>RPL8A_Mut1</th>\n",
       "      <th>RPL8A_Mut2</th>\n",
       "      <th>RPL8A_Mut3</th>\n",
       "      <th>RPP1B_Mut1</th>\n",
       "      <th>RPS12_Mut1</th>\n",
       "      <th>RPS14B_Mut1</th>\n",
       "      <th>RPS20_Mut1</th>\n",
       "      <th>RPS9A_Mut1</th>\n",
       "    </tr>\n",
       "  </thead>\n",
       "  <tbody>\n",
       "    <tr>\n",
       "      <th>GTA[TC]GG[GA]TG</th>\n",
       "      <td> 1</td>\n",
       "      <td> 0</td>\n",
       "      <td> 0</td>\n",
       "      <td> 0</td>\n",
       "      <td> 0</td>\n",
       "      <td> 0</td>\n",
       "      <td> 0</td>\n",
       "      <td> 0</td>\n",
       "      <td> 0</td>\n",
       "      <td> 0</td>\n",
       "      <td>...</td>\n",
       "      <td> 0</td>\n",
       "      <td> 0</td>\n",
       "      <td> 0</td>\n",
       "      <td> 0</td>\n",
       "      <td> 0</td>\n",
       "      <td> 0</td>\n",
       "      <td> 0</td>\n",
       "      <td> 0</td>\n",
       "      <td> 0</td>\n",
       "      <td> 0</td>\n",
       "    </tr>\n",
       "    <tr>\n",
       "      <th>TTTTTTTTC</th>\n",
       "      <td> 2</td>\n",
       "      <td> 0</td>\n",
       "      <td> 0</td>\n",
       "      <td> 0</td>\n",
       "      <td> 1</td>\n",
       "      <td> 0</td>\n",
       "      <td> 1</td>\n",
       "      <td> 1</td>\n",
       "      <td> 1</td>\n",
       "      <td> 0</td>\n",
       "      <td>...</td>\n",
       "      <td> 0</td>\n",
       "      <td> 0</td>\n",
       "      <td> 1</td>\n",
       "      <td> 1</td>\n",
       "      <td> 1</td>\n",
       "      <td> 0</td>\n",
       "      <td> 0</td>\n",
       "      <td> 0</td>\n",
       "      <td> 0</td>\n",
       "      <td> 0</td>\n",
       "    </tr>\n",
       "    <tr>\n",
       "      <th>ATGT[AG]TGGG</th>\n",
       "      <td> 0</td>\n",
       "      <td> 0</td>\n",
       "      <td> 0</td>\n",
       "      <td> 0</td>\n",
       "      <td> 1</td>\n",
       "      <td> 0</td>\n",
       "      <td> 0</td>\n",
       "      <td> 0</td>\n",
       "      <td> 0</td>\n",
       "      <td> 0</td>\n",
       "      <td>...</td>\n",
       "      <td> 0</td>\n",
       "      <td> 0</td>\n",
       "      <td> 0</td>\n",
       "      <td> 0</td>\n",
       "      <td> 0</td>\n",
       "      <td> 0</td>\n",
       "      <td> 0</td>\n",
       "      <td> 0</td>\n",
       "      <td> 0</td>\n",
       "      <td> 0</td>\n",
       "    </tr>\n",
       "    <tr>\n",
       "      <th>TT[TC]TTTTTT</th>\n",
       "      <td> 2</td>\n",
       "      <td> 0</td>\n",
       "      <td> 0</td>\n",
       "      <td> 0</td>\n",
       "      <td> 1</td>\n",
       "      <td> 0</td>\n",
       "      <td> 0</td>\n",
       "      <td> 1</td>\n",
       "      <td> 1</td>\n",
       "      <td> 1</td>\n",
       "      <td>...</td>\n",
       "      <td> 0</td>\n",
       "      <td> 0</td>\n",
       "      <td> 1</td>\n",
       "      <td> 1</td>\n",
       "      <td> 1</td>\n",
       "      <td> 0</td>\n",
       "      <td> 0</td>\n",
       "      <td> 0</td>\n",
       "      <td> 0</td>\n",
       "      <td> 1</td>\n",
       "    </tr>\n",
       "    <tr>\n",
       "      <th>[TG]C[CG]GCCT[AG][GC]</th>\n",
       "      <td> 0</td>\n",
       "      <td> 0</td>\n",
       "      <td> 0</td>\n",
       "      <td> 0</td>\n",
       "      <td> 0</td>\n",
       "      <td> 0</td>\n",
       "      <td> 0</td>\n",
       "      <td> 0</td>\n",
       "      <td> 0</td>\n",
       "      <td> 0</td>\n",
       "      <td>...</td>\n",
       "      <td> 0</td>\n",
       "      <td> 0</td>\n",
       "      <td> 0</td>\n",
       "      <td> 0</td>\n",
       "      <td> 0</td>\n",
       "      <td> 0</td>\n",
       "      <td> 0</td>\n",
       "      <td> 0</td>\n",
       "      <td> 0</td>\n",
       "      <td> 0</td>\n",
       "    </tr>\n",
       "  </tbody>\n",
       "</table>\n",
       "<p>5 rows × 53 columns</p>\n",
       "</div>"
      ],
      "text/plain": [
       "                       RPL11A  RPL12B  RPL21A  RPL21B  RPL26A  RPL28  RPL35B  \\\n",
       "GTA[TC]GG[GA]TG             1       0       0       0       0      0       0   \n",
       "TTTTTTTTC                   2       0       0       0       1      0       1   \n",
       "ATGT[AG]TGGG                0       0       0       0       1      0       0   \n",
       "TT[TC]TTTTTT                2       0       0       0       1      0       0   \n",
       "[TG]C[CG]GCCT[AG][GC]       0       0       0       0       0      0       0   \n",
       "\n",
       "                       RPL37A  RPL37B  RPL42A   ...    RPL7B_Mut1  RPL7B_Mut2  \\\n",
       "GTA[TC]GG[GA]TG             0       0       0   ...             0           0   \n",
       "TTTTTTTTC                   1       1       0   ...             0           0   \n",
       "ATGT[AG]TGGG                0       0       0   ...             0           0   \n",
       "TT[TC]TTTTTT                1       1       1   ...             0           0   \n",
       "[TG]C[CG]GCCT[AG][GC]       0       0       0   ...             0           0   \n",
       "\n",
       "                       RPL8A_Mut1  RPL8A_Mut2  RPL8A_Mut3  RPP1B_Mut1  \\\n",
       "GTA[TC]GG[GA]TG                 0           0           0           0   \n",
       "TTTTTTTTC                       1           1           1           0   \n",
       "ATGT[AG]TGGG                    0           0           0           0   \n",
       "TT[TC]TTTTTT                    1           1           1           0   \n",
       "[TG]C[CG]GCCT[AG][GC]           0           0           0           0   \n",
       "\n",
       "                       RPS12_Mut1  RPS14B_Mut1  RPS20_Mut1  RPS9A_Mut1  \n",
       "GTA[TC]GG[GA]TG                 0            0           0           0  \n",
       "TTTTTTTTC                       0            0           0           0  \n",
       "ATGT[AG]TGGG                    0            0           0           0  \n",
       "TT[TC]TTTTTT                    0            0           0           1  \n",
       "[TG]C[CG]GCCT[AG][GC]           0            0           0           0  \n",
       "\n",
       "[5 rows x 53 columns]"
      ]
     },
     "execution_count": 127,
     "metadata": {},
     "output_type": "execute_result"
    }
   ],
   "source": [
    "df.head()"
   ]
  },
  {
   "cell_type": "code",
   "execution_count": null,
   "metadata": {
    "collapsed": true
   },
   "outputs": [],
   "source": []
  }
 ],
 "metadata": {
  "kernelspec": {
   "display_name": "Python 2",
   "language": "python",
   "name": "python2"
  },
  "language_info": {
   "codemirror_mode": {
    "name": "ipython",
    "version": 2
   },
   "file_extension": ".py",
   "mimetype": "text/x-python",
   "name": "python",
   "nbconvert_exporter": "python",
   "pygments_lexer": "ipython2",
   "version": "2.7.7"
  }
 },
 "nbformat": 4,
 "nbformat_minor": 0
}
