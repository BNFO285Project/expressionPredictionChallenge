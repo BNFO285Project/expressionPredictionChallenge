{
 "cells": [
  {
   "cell_type": "markdown",
   "metadata": {},
   "source": [
    "<h3> R Notebook for predicting expression and scoring the results. "
   ]
  },
  {
   "cell_type": "markdown",
   "metadata": {},
   "source": [
    "Reading in Feature Matrix"
   ]
  },
  {
   "cell_type": "code",
   "execution_count": 1,
   "metadata": {
    "collapsed": false
   },
   "outputs": [],
   "source": [
    "featureMatrix=read.csv(\"training_matrix.csv\", header = TRUE)"
   ]
  },
  {
   "cell_type": "markdown",
   "metadata": {},
   "source": [
    "Modifying featureMatrix to make it friendly for Multivariate Linear Regression Parameter Estimation"
   ]
  },
  {
   "cell_type": "code",
   "execution_count": 2,
   "metadata": {
    "collapsed": false
   },
   "outputs": [
    {
     "name": "stdout",
     "output_type": "stream",
     "text": [
      " [1] \"GTA[TC]GG[GA]TG\"       \"TTTTTTTTC\"             \"ATGT[AG]TGGG\"         \n",
      " [4] \"TT[TC]TTTTTT\"          \"[TG]C[CG]GCCT[AG][GC]\" \"ATC[CT]GTACA\"         \n",
      " [7] \"TTTTTC[AC]A\"           \"CCCGGCCC\"              \"GGCCCTGGC\"            \n",
      "[10] \"[TC][CG][GC]CGCGTC\"   \n"
     ]
    },
    {
     "data": {
      "text/html": [
       "<table>\n",
       "<thead><tr><th></th><th scope=col>GTA[TC]GG[GA]TG</th><th scope=col>TTTTTTTTC</th><th scope=col>ATGT[AG]TGGG</th><th scope=col>TT[TC]TTTTTT</th><th scope=col>[TG]C[CG]GCCT[AG][GC]</th><th scope=col>ATC[CT]GTACA</th><th scope=col>TTTTTC[AC]A</th><th scope=col>CCCGGCCC</th><th scope=col>GGCCCTGGC</th><th scope=col>[TC][CG][GC]CGCGTC</th></tr></thead>\n",
       "<tbody>\n",
       "\t<tr><th scope=row>RPL10</th><td>0</td><td>2</td><td>0</td><td>1</td><td>0</td><td>0</td><td>0</td><td>0</td><td>0</td><td>0</td></tr>\n",
       "\t<tr><th scope=row>RPL11B</th><td>1</td><td>1</td><td>1</td><td>0</td><td>0</td><td>0</td><td>0</td><td>0</td><td>0</td><td>0</td></tr>\n",
       "\t<tr><th scope=row>RPL12A</th><td>0</td><td>0</td><td>1</td><td>0</td><td>2</td><td>1</td><td>0</td><td>0</td><td>0</td><td>1</td></tr>\n",
       "\t<tr><th scope=row>RPL13A</th><td>1</td><td>2</td><td>1</td><td>1</td><td>2</td><td>0</td><td>2</td><td>0</td><td>0</td><td>0</td></tr>\n",
       "\t<tr><th scope=row>RPL13B</th><td>2</td><td>1</td><td>1</td><td>0</td><td>1</td><td>1</td><td>0</td><td>0</td><td>0</td><td>1</td></tr>\n",
       "\t<tr><th scope=row>RPL14A</th><td>1</td><td>2</td><td>1</td><td>0</td><td>1</td><td>1</td><td>1</td><td>0</td><td>0</td><td>1</td></tr>\n",
       "</tbody>\n",
       "</table>\n"
      ],
      "text/latex": [
       "\\begin{tabular}{r|llllllllll}\n",
       "  & GTA[TC]GG[GA]TG & TTTTTTTTC & ATGT[AG]TGGG & TT[TC]TTTTTT & [TG]C[CG]GCCT[AG][GC] & ATC[CT]GTACA & TTTTTC[AC]A & CCCGGCCC & GGCCCTGGC & [TC][CG][GC]CGCGTC\\\\\n",
       "\\hline\n",
       "\tRPL10 & 0 & 2 & 0 & 1 & 0 & 0 & 0 & 0 & 0 & 0\\\\\n",
       "\tRPL11B & 1 & 1 & 1 & 0 & 0 & 0 & 0 & 0 & 0 & 0\\\\\n",
       "\tRPL12A & 0 & 0 & 1 & 0 & 2 & 1 & 0 & 0 & 0 & 1\\\\\n",
       "\tRPL13A & 1 & 2 & 1 & 1 & 2 & 0 & 2 & 0 & 0 & 0\\\\\n",
       "\tRPL13B & 2 & 1 & 1 & 0 & 1 & 1 & 0 & 0 & 0 & 1\\\\\n",
       "\tRPL14A & 1 & 2 & 1 & 0 & 1 & 1 & 1 & 0 & 0 & 1\\\\\n",
       "\\end{tabular}\n"
      ],
      "text/markdown": [
       "1. '0'\n",
       "2. '1'\n",
       "3. '0'\n",
       "4. '1'\n",
       "5. '2'\n",
       "6. '1'\n",
       "7. '2'\n",
       "8. '1'\n",
       "9. '0'\n",
       "10. '2'\n",
       "11. '1'\n",
       "12. '2'\n",
       "13. '0'\n",
       "14. '1'\n",
       "15. '1'\n",
       "16. '1'\n",
       "17. '1'\n",
       "18. '1'\n",
       "19. '1'\n",
       "20. '0'\n",
       "21. '0'\n",
       "22. '1'\n",
       "23. '0'\n",
       "24. '0'\n",
       "25. '0'\n",
       "26. '0'\n",
       "27. '2'\n",
       "28. '2'\n",
       "29. '1'\n",
       "30. '1'\n",
       "31. '0'\n",
       "32. '0'\n",
       "33. '1'\n",
       "34. '0'\n",
       "35. '1'\n",
       "36. '1'\n",
       "37. '0'\n",
       "38. '0'\n",
       "39. '0'\n",
       "40. '2'\n",
       "41. '0'\n",
       "42. '1'\n",
       "43. '0'\n",
       "44. '0'\n",
       "45. '0'\n",
       "46. '0'\n",
       "47. '0'\n",
       "48. '0'\n",
       "49. '0'\n",
       "50. '0'\n",
       "51. '0'\n",
       "52. '0'\n",
       "53. '0'\n",
       "54. '0'\n",
       "55. '0'\n",
       "56. '0'\n",
       "57. '1'\n",
       "58. '0'\n",
       "59. '1'\n",
       "60. '1'\n",
       "\n",
       "\n"
      ],
      "text/plain": [
       "       GTA[TC]GG[GA]TG TTTTTTTTC ATGT[AG]TGGG TT[TC]TTTTTT\n",
       "RPL10  \"0\"             \"2\"       \"0\"          \"1\"         \n",
       "RPL11B \"1\"             \"1\"       \"1\"          \"0\"         \n",
       "RPL12A \"0\"             \"0\"       \"1\"          \"0\"         \n",
       "RPL13A \"1\"             \"2\"       \"1\"          \"1\"         \n",
       "RPL13B \"2\"             \"1\"       \"1\"          \"0\"         \n",
       "RPL14A \"1\"             \"2\"       \"1\"          \"0\"         \n",
       "       [TG]C[CG]GCCT[AG][GC] ATC[CT]GTACA TTTTTC[AC]A CCCGGCCC GGCCCTGGC\n",
       "RPL10  \"0\"                   \"0\"          \"0\"         \"0\"      \"0\"      \n",
       "RPL11B \"0\"                   \"0\"          \"0\"         \"0\"      \"0\"      \n",
       "RPL12A \"2\"                   \"1\"          \"0\"         \"0\"      \"0\"      \n",
       "RPL13A \"2\"                   \"0\"          \"2\"         \"0\"      \"0\"      \n",
       "RPL13B \"1\"                   \"1\"          \"0\"         \"0\"      \"0\"      \n",
       "RPL14A \"1\"                   \"1\"          \"1\"         \"0\"      \"0\"      \n",
       "       [TC][CG][GC]CGCGTC\n",
       "RPL10  \"0\"               \n",
       "RPL11B \"0\"               \n",
       "RPL12A \"1\"               \n",
       "RPL13A \"0\"               \n",
       "RPL13B \"1\"               \n",
       "RPL14A \"1\"               "
      ]
     },
     "execution_count": 2,
     "metadata": {},
     "output_type": "execute_result"
    }
   ],
   "source": [
    "featureMatrix=t(featureMatrix)\n",
    "motifs=featureMatrix[1,]\n",
    "featureMatrix=featureMatrix[-1,]\n",
    "colnames(featureMatrix)=motifs\n",
    "#Seeing what the Motifs are.\n",
    "print(motifs)\n",
    "#Printing a sample to see if everything was done correctly\n",
    "head(featureMatrix)"
   ]
  },
  {
   "cell_type": "code",
   "execution_count": 3,
   "metadata": {
    "collapsed": false
   },
   "outputs": [
    {
     "data": {
      "text/html": [
       "<table>\n",
       "<thead><tr><th></th><th scope=col>Ones</th><th scope=col>GTA[TC]GG[GA]TG</th><th scope=col>TTTTTTTTC</th><th scope=col>ATGT[AG]TGGG</th><th scope=col>TT[TC]TTTTTT</th><th scope=col>[TG]C[CG]GCCT[AG][GC]</th><th scope=col>ATC[CT]GTACA</th><th scope=col>TTTTTC[AC]A</th><th scope=col>CCCGGCCC</th><th scope=col>GGCCCTGGC</th><th scope=col>[TC][CG][GC]CGCGTC</th></tr></thead>\n",
       "<tbody>\n",
       "\t<tr><th scope=row>RPL10</th><td>1</td><td>0</td><td>2</td><td>0</td><td>1</td><td>0</td><td>0</td><td>0</td><td>0</td><td>0</td><td>0</td></tr>\n",
       "\t<tr><th scope=row>RPL11B</th><td>1</td><td>1</td><td>1</td><td>1</td><td>0</td><td>0</td><td>0</td><td>0</td><td>0</td><td>0</td><td>0</td></tr>\n",
       "\t<tr><th scope=row>RPL12A</th><td>1</td><td>0</td><td>0</td><td>1</td><td>0</td><td>2</td><td>1</td><td>0</td><td>0</td><td>0</td><td>1</td></tr>\n",
       "\t<tr><th scope=row>RPL13A</th><td>1</td><td>1</td><td>2</td><td>1</td><td>1</td><td>2</td><td>0</td><td>2</td><td>0</td><td>0</td><td>0</td></tr>\n",
       "\t<tr><th scope=row>RPL13B</th><td>1</td><td>2</td><td>1</td><td>1</td><td>0</td><td>1</td><td>1</td><td>0</td><td>0</td><td>0</td><td>1</td></tr>\n",
       "\t<tr><th scope=row>RPL14A</th><td>1</td><td>1</td><td>2</td><td>1</td><td>0</td><td>1</td><td>1</td><td>1</td><td>0</td><td>0</td><td>1</td></tr>\n",
       "</tbody>\n",
       "</table>\n"
      ],
      "text/latex": [
       "\\begin{tabular}{r|lllllllllll}\n",
       "  & Ones & GTA[TC]GG[GA]TG & TTTTTTTTC & ATGT[AG]TGGG & TT[TC]TTTTTT & [TG]C[CG]GCCT[AG][GC] & ATC[CT]GTACA & TTTTTC[AC]A & CCCGGCCC & GGCCCTGGC & [TC][CG][GC]CGCGTC\\\\\n",
       "\\hline\n",
       "\tRPL10 & 1 & 0 & 2 & 0 & 1 & 0 & 0 & 0 & 0 & 0 & 0\\\\\n",
       "\tRPL11B & 1 & 1 & 1 & 1 & 0 & 0 & 0 & 0 & 0 & 0 & 0\\\\\n",
       "\tRPL12A & 1 & 0 & 0 & 1 & 0 & 2 & 1 & 0 & 0 & 0 & 1\\\\\n",
       "\tRPL13A & 1 & 1 & 2 & 1 & 1 & 2 & 0 & 2 & 0 & 0 & 0\\\\\n",
       "\tRPL13B & 1 & 2 & 1 & 1 & 0 & 1 & 1 & 0 & 0 & 0 & 1\\\\\n",
       "\tRPL14A & 1 & 1 & 2 & 1 & 0 & 1 & 1 & 1 & 0 & 0 & 1\\\\\n",
       "\\end{tabular}\n"
      ],
      "text/markdown": [
       "1. '1'\n",
       "2. '1'\n",
       "3. '1'\n",
       "4. '1'\n",
       "5. '1'\n",
       "6. '1'\n",
       "7. '0'\n",
       "8. '1'\n",
       "9. '0'\n",
       "10. '1'\n",
       "11. '2'\n",
       "12. '1'\n",
       "13. '2'\n",
       "14. '1'\n",
       "15. '0'\n",
       "16. '2'\n",
       "17. '1'\n",
       "18. '2'\n",
       "19. '0'\n",
       "20. '1'\n",
       "21. '1'\n",
       "22. '1'\n",
       "23. '1'\n",
       "24. '1'\n",
       "25. '1'\n",
       "26. '0'\n",
       "27. '0'\n",
       "28. '1'\n",
       "29. '0'\n",
       "30. '0'\n",
       "31. '0'\n",
       "32. '0'\n",
       "33. '2'\n",
       "34. '2'\n",
       "35. '1'\n",
       "36. '1'\n",
       "37. '0'\n",
       "38. '0'\n",
       "39. '1'\n",
       "40. '0'\n",
       "41. '1'\n",
       "42. '1'\n",
       "43. '0'\n",
       "44. '0'\n",
       "45. '0'\n",
       "46. '2'\n",
       "47. '0'\n",
       "48. '1'\n",
       "49. '0'\n",
       "50. '0'\n",
       "51. '0'\n",
       "52. '0'\n",
       "53. '0'\n",
       "54. '0'\n",
       "55. '0'\n",
       "56. '0'\n",
       "57. '0'\n",
       "58. '0'\n",
       "59. '0'\n",
       "60. '0'\n",
       "61. '0'\n",
       "62. '0'\n",
       "63. '1'\n",
       "64. '0'\n",
       "65. '1'\n",
       "66. '1'\n",
       "\n",
       "\n"
      ],
      "text/plain": [
       "       Ones GTA[TC]GG[GA]TG TTTTTTTTC ATGT[AG]TGGG TT[TC]TTTTTT\n",
       "RPL10  \"1\"  \"0\"             \"2\"       \"0\"          \"1\"         \n",
       "RPL11B \"1\"  \"1\"             \"1\"       \"1\"          \"0\"         \n",
       "RPL12A \"1\"  \"0\"             \"0\"       \"1\"          \"0\"         \n",
       "RPL13A \"1\"  \"1\"             \"2\"       \"1\"          \"1\"         \n",
       "RPL13B \"1\"  \"2\"             \"1\"       \"1\"          \"0\"         \n",
       "RPL14A \"1\"  \"1\"             \"2\"       \"1\"          \"0\"         \n",
       "       [TG]C[CG]GCCT[AG][GC] ATC[CT]GTACA TTTTTC[AC]A CCCGGCCC GGCCCTGGC\n",
       "RPL10  \"0\"                   \"0\"          \"0\"         \"0\"      \"0\"      \n",
       "RPL11B \"0\"                   \"0\"          \"0\"         \"0\"      \"0\"      \n",
       "RPL12A \"2\"                   \"1\"          \"0\"         \"0\"      \"0\"      \n",
       "RPL13A \"2\"                   \"0\"          \"2\"         \"0\"      \"0\"      \n",
       "RPL13B \"1\"                   \"1\"          \"0\"         \"0\"      \"0\"      \n",
       "RPL14A \"1\"                   \"1\"          \"1\"         \"0\"      \"0\"      \n",
       "       [TC][CG][GC]CGCGTC\n",
       "RPL10  \"0\"               \n",
       "RPL11B \"0\"               \n",
       "RPL12A \"1\"               \n",
       "RPL13A \"0\"               \n",
       "RPL13B \"1\"               \n",
       "RPL14A \"1\"               "
      ]
     },
     "execution_count": 3,
     "metadata": {},
     "output_type": "execute_result"
    }
   ],
   "source": [
    "#Adding ones to first column for the estimation step\n",
    "featureMatrix=cbind(rep(1,nrow(featureMatrix)),featureMatrix)\n",
    "colnames(featureMatrix)=c(\"Ones\",motifs)\n",
    "#Printing a Sample to See if everything is correct\n",
    "head(featureMatrix)"
   ]
  },
  {
   "cell_type": "markdown",
   "metadata": {},
   "source": [
    "Reading in expression values recorded for training set"
   ]
  },
  {
   "cell_type": "code",
   "execution_count": 4,
   "metadata": {
    "collapsed": false
   },
   "outputs": [
    {
     "data": {
      "text/html": [
       "<table>\n",
       "<thead><tr><th></th><th scope=col>V1</th><th scope=col>V2</th></tr></thead>\n",
       "<tbody>\n",
       "\t<tr><th scope=row>1</th><td>RPL10</td><td>2.84</td></tr>\n",
       "\t<tr><th scope=row>2</th><td>RPL11B</td><td>1.59</td></tr>\n",
       "\t<tr><th scope=row>3</th><td>RPL12A</td><td>0.92</td></tr>\n",
       "\t<tr><th scope=row>4</th><td>RPL13A</td><td>1.2</td></tr>\n",
       "\t<tr><th scope=row>5</th><td>RPL13B</td><td>1.66</td></tr>\n",
       "\t<tr><th scope=row>6</th><td>RPL14A</td><td>1.62</td></tr>\n",
       "</tbody>\n",
       "</table>\n"
      ],
      "text/latex": [
       "\\begin{tabular}{r|ll}\n",
       "  & V1 & V2\\\\\n",
       "\\hline\n",
       "\t1 & RPL10 & 2.84\\\\\n",
       "\t2 & RPL11B & 1.59\\\\\n",
       "\t3 & RPL12A & 0.92\\\\\n",
       "\t4 & RPL13A & 1.2\\\\\n",
       "\t5 & RPL13B & 1.66\\\\\n",
       "\t6 & RPL14A & 1.62\\\\\n",
       "\\end{tabular}\n"
      ],
      "text/plain": [
       "      V1   V2\n",
       "1  RPL10 2.84\n",
       "2 RPL11B 1.59\n",
       "3 RPL12A 0.92\n",
       "4 RPL13A 1.20\n",
       "5 RPL13B 1.66\n",
       "6 RPL14A 1.62"
      ]
     },
     "execution_count": 4,
     "metadata": {},
     "output_type": "execute_result"
    }
   ],
   "source": [
    "expressionValues=read.table(\"DREAM6_ExPred_PromoterActivities.txt\",header=FALSE)\n",
    "head(expressionValues)\n",
    "promoterNames=expressionValues[,1]\n",
    "expressionValues=expressionValues[,-1]"
   ]
  },
  {
   "cell_type": "markdown",
   "metadata": {},
   "source": [
    "Now that we have both the Feature matrix X and the observed values y we can use Normal Equations to find the closed form solution. Normal Equations are feasible in this case because the number of features are not very large.\n",
    "\n",
    "The parameter vector theta can be estimated as follows:\n",
    "$$ \\theta= (X^{T}X)^{-1}X^{T}y$$"
   ]
  },
  {
   "cell_type": "code",
   "execution_count": 5,
   "metadata": {
    "collapsed": false
   },
   "outputs": [
    {
     "data": {
      "text/html": [
       "<table>\n",
       "<thead><tr><th></th><th scope=col>Ones</th><th scope=col>GTA[TC]GG[GA]TG</th><th scope=col>TTTTTTTTC</th><th scope=col>ATGT[AG]TGGG</th><th scope=col>TT[TC]TTTTTT</th><th scope=col>[TG]C[CG]GCCT[AG][GC]</th><th scope=col>ATC[CT]GTACA</th><th scope=col>TTTTTC[AC]A</th><th scope=col>CCCGGCCC</th><th scope=col>GGCCCTGGC</th><th scope=col>[TC][CG][GC]CGCGTC</th></tr></thead>\n",
       "<tbody>\n",
       "\t<tr><th scope=row>RPL10</th><td>1</td><td>0</td><td>2</td><td>0</td><td>1</td><td>0</td><td>0</td><td>0</td><td>0</td><td>0</td><td>0</td></tr>\n",
       "\t<tr><th scope=row>RPL11B</th><td>1</td><td>1</td><td>1</td><td>1</td><td>0</td><td>0</td><td>0</td><td>0</td><td>0</td><td>0</td><td>0</td></tr>\n",
       "\t<tr><th scope=row>RPL12A</th><td>1</td><td>0</td><td>0</td><td>1</td><td>0</td><td>2</td><td>1</td><td>0</td><td>0</td><td>0</td><td>1</td></tr>\n",
       "\t<tr><th scope=row>RPL13A</th><td>1</td><td>1</td><td>2</td><td>1</td><td>1</td><td>2</td><td>0</td><td>2</td><td>0</td><td>0</td><td>0</td></tr>\n",
       "\t<tr><th scope=row>RPL13B</th><td>1</td><td>2</td><td>1</td><td>1</td><td>0</td><td>1</td><td>1</td><td>0</td><td>0</td><td>0</td><td>1</td></tr>\n",
       "\t<tr><th scope=row>RPL14A</th><td>1</td><td>1</td><td>2</td><td>1</td><td>0</td><td>1</td><td>1</td><td>1</td><td>0</td><td>0</td><td>1</td></tr>\n",
       "</tbody>\n",
       "</table>\n"
      ],
      "text/latex": [
       "\\begin{tabular}{r|lllllllllll}\n",
       "  & Ones & GTA[TC]GG[GA]TG & TTTTTTTTC & ATGT[AG]TGGG & TT[TC]TTTTTT & [TG]C[CG]GCCT[AG][GC] & ATC[CT]GTACA & TTTTTC[AC]A & CCCGGCCC & GGCCCTGGC & [TC][CG][GC]CGCGTC\\\\\n",
       "\\hline\n",
       "\tRPL10 & 1 & 0 & 2 & 0 & 1 & 0 & 0 & 0 & 0 & 0 & 0\\\\\n",
       "\tRPL11B & 1 & 1 & 1 & 1 & 0 & 0 & 0 & 0 & 0 & 0 & 0\\\\\n",
       "\tRPL12A & 1 & 0 & 0 & 1 & 0 & 2 & 1 & 0 & 0 & 0 & 1\\\\\n",
       "\tRPL13A & 1 & 1 & 2 & 1 & 1 & 2 & 0 & 2 & 0 & 0 & 0\\\\\n",
       "\tRPL13B & 1 & 2 & 1 & 1 & 0 & 1 & 1 & 0 & 0 & 0 & 1\\\\\n",
       "\tRPL14A & 1 & 1 & 2 & 1 & 0 & 1 & 1 & 1 & 0 & 0 & 1\\\\\n",
       "\\end{tabular}\n"
      ],
      "text/markdown": [
       "1. 1\n",
       "2. 1\n",
       "3. 1\n",
       "4. 1\n",
       "5. 1\n",
       "6. 1\n",
       "7. 0\n",
       "8. 1\n",
       "9. 0\n",
       "10. 1\n",
       "11. 2\n",
       "12. 1\n",
       "13. 2\n",
       "14. 1\n",
       "15. 0\n",
       "16. 2\n",
       "17. 1\n",
       "18. 2\n",
       "19. 0\n",
       "20. 1\n",
       "21. 1\n",
       "22. 1\n",
       "23. 1\n",
       "24. 1\n",
       "25. 1\n",
       "26. 0\n",
       "27. 0\n",
       "28. 1\n",
       "29. 0\n",
       "30. 0\n",
       "31. 0\n",
       "32. 0\n",
       "33. 2\n",
       "34. 2\n",
       "35. 1\n",
       "36. 1\n",
       "37. 0\n",
       "38. 0\n",
       "39. 1\n",
       "40. 0\n",
       "41. 1\n",
       "42. 1\n",
       "43. 0\n",
       "44. 0\n",
       "45. 0\n",
       "46. 2\n",
       "47. 0\n",
       "48. 1\n",
       "49. 0\n",
       "50. 0\n",
       "51. 0\n",
       "52. 0\n",
       "53. 0\n",
       "54. 0\n",
       "55. 0\n",
       "56. 0\n",
       "57. 0\n",
       "58. 0\n",
       "59. 0\n",
       "60. 0\n",
       "61. 0\n",
       "62. 0\n",
       "63. 1\n",
       "64. 0\n",
       "65. 1\n",
       "66. 1\n",
       "\n",
       "\n"
      ],
      "text/plain": [
       "       Ones GTA[TC]GG[GA]TG TTTTTTTTC ATGT[AG]TGGG TT[TC]TTTTTT\n",
       "RPL10     1               0         2            0            1\n",
       "RPL11B    1               1         1            1            0\n",
       "RPL12A    1               0         0            1            0\n",
       "RPL13A    1               1         2            1            1\n",
       "RPL13B    1               2         1            1            0\n",
       "RPL14A    1               1         2            1            0\n",
       "       [TG]C[CG]GCCT[AG][GC] ATC[CT]GTACA TTTTTC[AC]A CCCGGCCC GGCCCTGGC\n",
       "RPL10                      0            0           0        0         0\n",
       "RPL11B                     0            0           0        0         0\n",
       "RPL12A                     2            1           0        0         0\n",
       "RPL13A                     2            0           2        0         0\n",
       "RPL13B                     1            1           0        0         0\n",
       "RPL14A                     1            1           1        0         0\n",
       "       [TC][CG][GC]CGCGTC\n",
       "RPL10                   0\n",
       "RPL11B                  0\n",
       "RPL12A                  1\n",
       "RPL13A                  0\n",
       "RPL13B                  1\n",
       "RPL14A                  1"
      ]
     },
     "execution_count": 5,
     "metadata": {},
     "output_type": "execute_result"
    }
   ],
   "source": [
    "featureMatrix=t(apply(featureMatrix,1,strtoi))\n",
    "colnames(featureMatrix)=colnames(featureMatrix)=c(\"Ones\",motifs)\n",
    "#Printing a sample to see if everything is ok\n",
    "head(featureMatrix)"
   ]
  },
  {
   "cell_type": "code",
   "execution_count": 6,
   "metadata": {
    "collapsed": false
   },
   "outputs": [
    {
     "name": "stdout",
     "output_type": "stream",
     "text": [
      "              [,1]\n",
      " [1,]  1.691091520\n",
      " [2,]  0.037912910\n",
      " [3,]  0.118572795\n",
      " [4,] -0.184852803\n",
      " [5,]  0.086321790\n",
      " [6,] -0.129624600\n",
      " [7,] -0.081866230\n",
      " [8,]  0.007193555\n",
      " [9,] -0.070986256\n",
      "[10,] -0.378224878\n",
      "[11,] -0.133789078\n"
     ]
    }
   ],
   "source": [
    "#Using standard Notation\n",
    "X=featureMatrix\n",
    "y=expressionValues\n",
    "theta=solve(t(X)%*%(X))%*%t(X)%*%y\n",
    "rownames(theta)= NULL \n",
    "#Printing calculated Values of Theta\n",
    "print(theta)"
   ]
  },
  {
   "cell_type": "markdown",
   "metadata": {},
   "source": [
    "Reading in prediction matrix"
   ]
  },
  {
   "cell_type": "code",
   "execution_count": null,
   "metadata": {
    "collapsed": true
   },
   "outputs": [],
   "source": []
  }
 ],
 "metadata": {
  "kernelspec": {
   "display_name": "R",
   "language": "R",
   "name": "ir"
  },
  "language_info": {
   "codemirror_mode": "r",
   "file_extension": ".r",
   "mimetype": "text/x-r-source",
   "name": "R",
   "pygments_lexer": "r",
   "version": "3.2.3"
  }
 },
 "nbformat": 4,
 "nbformat_minor": 0
}
