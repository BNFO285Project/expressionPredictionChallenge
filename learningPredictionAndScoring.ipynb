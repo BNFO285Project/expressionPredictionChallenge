{
 "cells": [
  {
   "cell_type": "markdown",
   "metadata": {},
   "source": [
    "<h3> R Notebook for predicting expression and scoring the results. "
   ]
  },
  {
   "cell_type": "markdown",
   "metadata": {},
   "source": [
    "Reading in Feature Matrix"
   ]
  },
  {
   "cell_type": "code",
   "execution_count": 1,
   "metadata": {
    "collapsed": false
   },
   "outputs": [],
   "source": [
    "featureMatrix=read.csv(\"training_matrix.csv\", header = TRUE)"
   ]
  },
  {
   "cell_type": "markdown",
   "metadata": {},
   "source": [
    "Modifying featureMatrix to make it friendly for Multivariate Linear Regression Parameter Estimation"
   ]
  },
  {
   "cell_type": "code",
   "execution_count": 2,
   "metadata": {
    "collapsed": false
   },
   "outputs": [
    {
     "name": "stdout",
     "output_type": "stream",
     "text": [
      " [1] \"GTA[TC]GG[GA]TG\"       \"TTTTTTTTC\"             \"ATGT[AG]TGGG\"         \n",
      " [4] \"TT[TC]TTTTTT\"          \"[TG]C[CG]GCCT[AG][GC]\" \"ATC[CT]GTACA\"         \n",
      " [7] \"TTTTTC[AC]A\"           \"CCCGGCCC\"              \"GGCCCTGGC\"            \n",
      "[10] \"[TC][CG][GC]CGCGTC\"   \n"
     ]
    },
    {
     "data": {
      "text/html": [
       "<table>\n",
       "<thead><tr><th></th><th scope=col>GTA[TC]GG[GA]TG</th><th scope=col>TTTTTTTTC</th><th scope=col>ATGT[AG]TGGG</th><th scope=col>TT[TC]TTTTTT</th><th scope=col>[TG]C[CG]GCCT[AG][GC]</th><th scope=col>ATC[CT]GTACA</th><th scope=col>TTTTTC[AC]A</th><th scope=col>CCCGGCCC</th><th scope=col>GGCCCTGGC</th><th scope=col>[TC][CG][GC]CGCGTC</th></tr></thead>\n",
       "<tbody>\n",
       "\t<tr><th scope=row>RPL10</th><td>0</td><td>2</td><td>0</td><td>1</td><td>0</td><td>0</td><td>0</td><td>0</td><td>0</td><td>0</td></tr>\n",
       "\t<tr><th scope=row>RPL11B</th><td>1</td><td>1</td><td>1</td><td>0</td><td>0</td><td>0</td><td>0</td><td>0</td><td>0</td><td>0</td></tr>\n",
       "\t<tr><th scope=row>RPL12A</th><td>0</td><td>0</td><td>1</td><td>0</td><td>2</td><td>1</td><td>0</td><td>0</td><td>0</td><td>1</td></tr>\n",
       "\t<tr><th scope=row>RPL13A</th><td>1</td><td>2</td><td>1</td><td>1</td><td>2</td><td>0</td><td>2</td><td>0</td><td>0</td><td>0</td></tr>\n",
       "\t<tr><th scope=row>RPL13B</th><td>2</td><td>1</td><td>1</td><td>0</td><td>1</td><td>1</td><td>0</td><td>0</td><td>0</td><td>1</td></tr>\n",
       "\t<tr><th scope=row>RPL14A</th><td>1</td><td>2</td><td>1</td><td>0</td><td>1</td><td>1</td><td>1</td><td>0</td><td>0</td><td>1</td></tr>\n",
       "</tbody>\n",
       "</table>\n"
      ],
      "text/latex": [
       "\\begin{tabular}{r|llllllllll}\n",
       "  & GTA[TC]GG[GA]TG & TTTTTTTTC & ATGT[AG]TGGG & TT[TC]TTTTTT & [TG]C[CG]GCCT[AG][GC] & ATC[CT]GTACA & TTTTTC[AC]A & CCCGGCCC & GGCCCTGGC & [TC][CG][GC]CGCGTC\\\\\n",
       "\\hline\n",
       "\tRPL10 & 0 & 2 & 0 & 1 & 0 & 0 & 0 & 0 & 0 & 0\\\\\n",
       "\tRPL11B & 1 & 1 & 1 & 0 & 0 & 0 & 0 & 0 & 0 & 0\\\\\n",
       "\tRPL12A & 0 & 0 & 1 & 0 & 2 & 1 & 0 & 0 & 0 & 1\\\\\n",
       "\tRPL13A & 1 & 2 & 1 & 1 & 2 & 0 & 2 & 0 & 0 & 0\\\\\n",
       "\tRPL13B & 2 & 1 & 1 & 0 & 1 & 1 & 0 & 0 & 0 & 1\\\\\n",
       "\tRPL14A & 1 & 2 & 1 & 0 & 1 & 1 & 1 & 0 & 0 & 1\\\\\n",
       "\\end{tabular}\n"
      ],
      "text/markdown": [
       "1. '0'\n",
       "2. '1'\n",
       "3. '0'\n",
       "4. '1'\n",
       "5. '2'\n",
       "6. '1'\n",
       "7. '2'\n",
       "8. '1'\n",
       "9. '0'\n",
       "10. '2'\n",
       "11. '1'\n",
       "12. '2'\n",
       "13. '0'\n",
       "14. '1'\n",
       "15. '1'\n",
       "16. '1'\n",
       "17. '1'\n",
       "18. '1'\n",
       "19. '1'\n",
       "20. '0'\n",
       "21. '0'\n",
       "22. '1'\n",
       "23. '0'\n",
       "24. '0'\n",
       "25. '0'\n",
       "26. '0'\n",
       "27. '2'\n",
       "28. '2'\n",
       "29. '1'\n",
       "30. '1'\n",
       "31. '0'\n",
       "32. '0'\n",
       "33. '1'\n",
       "34. '0'\n",
       "35. '1'\n",
       "36. '1'\n",
       "37. '0'\n",
       "38. '0'\n",
       "39. '0'\n",
       "40. '2'\n",
       "41. '0'\n",
       "42. '1'\n",
       "43. '0'\n",
       "44. '0'\n",
       "45. '0'\n",
       "46. '0'\n",
       "47. '0'\n",
       "48. '0'\n",
       "49. '0'\n",
       "50. '0'\n",
       "51. '0'\n",
       "52. '0'\n",
       "53. '0'\n",
       "54. '0'\n",
       "55. '0'\n",
       "56. '0'\n",
       "57. '1'\n",
       "58. '0'\n",
       "59. '1'\n",
       "60. '1'\n",
       "\n",
       "\n"
      ],
      "text/plain": [
       "       GTA[TC]GG[GA]TG TTTTTTTTC ATGT[AG]TGGG TT[TC]TTTTTT\n",
       "RPL10  \"0\"             \"2\"       \"0\"          \"1\"         \n",
       "RPL11B \"1\"             \"1\"       \"1\"          \"0\"         \n",
       "RPL12A \"0\"             \"0\"       \"1\"          \"0\"         \n",
       "RPL13A \"1\"             \"2\"       \"1\"          \"1\"         \n",
       "RPL13B \"2\"             \"1\"       \"1\"          \"0\"         \n",
       "RPL14A \"1\"             \"2\"       \"1\"          \"0\"         \n",
       "       [TG]C[CG]GCCT[AG][GC] ATC[CT]GTACA TTTTTC[AC]A CCCGGCCC GGCCCTGGC\n",
       "RPL10  \"0\"                   \"0\"          \"0\"         \"0\"      \"0\"      \n",
       "RPL11B \"0\"                   \"0\"          \"0\"         \"0\"      \"0\"      \n",
       "RPL12A \"2\"                   \"1\"          \"0\"         \"0\"      \"0\"      \n",
       "RPL13A \"2\"                   \"0\"          \"2\"         \"0\"      \"0\"      \n",
       "RPL13B \"1\"                   \"1\"          \"0\"         \"0\"      \"0\"      \n",
       "RPL14A \"1\"                   \"1\"          \"1\"         \"0\"      \"0\"      \n",
       "       [TC][CG][GC]CGCGTC\n",
       "RPL10  \"0\"               \n",
       "RPL11B \"0\"               \n",
       "RPL12A \"1\"               \n",
       "RPL13A \"0\"               \n",
       "RPL13B \"1\"               \n",
       "RPL14A \"1\"               "
      ]
     },
     "execution_count": 2,
     "metadata": {},
     "output_type": "execute_result"
    }
   ],
   "source": [
    "featureMatrix=t(featureMatrix)\n",
    "motifs=featureMatrix[1,]\n",
    "featureMatrix=featureMatrix[-1,]\n",
    "colnames(featureMatrix)=motifs\n",
    "#Seeing what the Motifs are.\n",
    "print(motifs)\n",
    "#Printing a sample to see if everything was done correctly\n",
    "head(featureMatrix)"
   ]
  },
  {
   "cell_type": "code",
   "execution_count": 3,
   "metadata": {
    "collapsed": false
   },
   "outputs": [
    {
     "data": {
      "text/html": [
       "<table>\n",
       "<thead><tr><th></th><th scope=col>Ones</th><th scope=col>GTA[TC]GG[GA]TG</th><th scope=col>TTTTTTTTC</th><th scope=col>ATGT[AG]TGGG</th><th scope=col>TT[TC]TTTTTT</th><th scope=col>[TG]C[CG]GCCT[AG][GC]</th><th scope=col>ATC[CT]GTACA</th><th scope=col>TTTTTC[AC]A</th><th scope=col>CCCGGCCC</th><th scope=col>GGCCCTGGC</th><th scope=col>[TC][CG][GC]CGCGTC</th></tr></thead>\n",
       "<tbody>\n",
       "\t<tr><th scope=row>RPL10</th><td>1</td><td>0</td><td>2</td><td>0</td><td>1</td><td>0</td><td>0</td><td>0</td><td>0</td><td>0</td><td>0</td></tr>\n",
       "\t<tr><th scope=row>RPL11B</th><td>1</td><td>1</td><td>1</td><td>1</td><td>0</td><td>0</td><td>0</td><td>0</td><td>0</td><td>0</td><td>0</td></tr>\n",
       "\t<tr><th scope=row>RPL12A</th><td>1</td><td>0</td><td>0</td><td>1</td><td>0</td><td>2</td><td>1</td><td>0</td><td>0</td><td>0</td><td>1</td></tr>\n",
       "\t<tr><th scope=row>RPL13A</th><td>1</td><td>1</td><td>2</td><td>1</td><td>1</td><td>2</td><td>0</td><td>2</td><td>0</td><td>0</td><td>0</td></tr>\n",
       "\t<tr><th scope=row>RPL13B</th><td>1</td><td>2</td><td>1</td><td>1</td><td>0</td><td>1</td><td>1</td><td>0</td><td>0</td><td>0</td><td>1</td></tr>\n",
       "\t<tr><th scope=row>RPL14A</th><td>1</td><td>1</td><td>2</td><td>1</td><td>0</td><td>1</td><td>1</td><td>1</td><td>0</td><td>0</td><td>1</td></tr>\n",
       "</tbody>\n",
       "</table>\n"
      ],
      "text/latex": [
       "\\begin{tabular}{r|lllllllllll}\n",
       "  & Ones & GTA[TC]GG[GA]TG & TTTTTTTTC & ATGT[AG]TGGG & TT[TC]TTTTTT & [TG]C[CG]GCCT[AG][GC] & ATC[CT]GTACA & TTTTTC[AC]A & CCCGGCCC & GGCCCTGGC & [TC][CG][GC]CGCGTC\\\\\n",
       "\\hline\n",
       "\tRPL10 & 1 & 0 & 2 & 0 & 1 & 0 & 0 & 0 & 0 & 0 & 0\\\\\n",
       "\tRPL11B & 1 & 1 & 1 & 1 & 0 & 0 & 0 & 0 & 0 & 0 & 0\\\\\n",
       "\tRPL12A & 1 & 0 & 0 & 1 & 0 & 2 & 1 & 0 & 0 & 0 & 1\\\\\n",
       "\tRPL13A & 1 & 1 & 2 & 1 & 1 & 2 & 0 & 2 & 0 & 0 & 0\\\\\n",
       "\tRPL13B & 1 & 2 & 1 & 1 & 0 & 1 & 1 & 0 & 0 & 0 & 1\\\\\n",
       "\tRPL14A & 1 & 1 & 2 & 1 & 0 & 1 & 1 & 1 & 0 & 0 & 1\\\\\n",
       "\\end{tabular}\n"
      ],
      "text/markdown": [
       "1. '1'\n",
       "2. '1'\n",
       "3. '1'\n",
       "4. '1'\n",
       "5. '1'\n",
       "6. '1'\n",
       "7. '0'\n",
       "8. '1'\n",
       "9. '0'\n",
       "10. '1'\n",
       "11. '2'\n",
       "12. '1'\n",
       "13. '2'\n",
       "14. '1'\n",
       "15. '0'\n",
       "16. '2'\n",
       "17. '1'\n",
       "18. '2'\n",
       "19. '0'\n",
       "20. '1'\n",
       "21. '1'\n",
       "22. '1'\n",
       "23. '1'\n",
       "24. '1'\n",
       "25. '1'\n",
       "26. '0'\n",
       "27. '0'\n",
       "28. '1'\n",
       "29. '0'\n",
       "30. '0'\n",
       "31. '0'\n",
       "32. '0'\n",
       "33. '2'\n",
       "34. '2'\n",
       "35. '1'\n",
       "36. '1'\n",
       "37. '0'\n",
       "38. '0'\n",
       "39. '1'\n",
       "40. '0'\n",
       "41. '1'\n",
       "42. '1'\n",
       "43. '0'\n",
       "44. '0'\n",
       "45. '0'\n",
       "46. '2'\n",
       "47. '0'\n",
       "48. '1'\n",
       "49. '0'\n",
       "50. '0'\n",
       "51. '0'\n",
       "52. '0'\n",
       "53. '0'\n",
       "54. '0'\n",
       "55. '0'\n",
       "56. '0'\n",
       "57. '0'\n",
       "58. '0'\n",
       "59. '0'\n",
       "60. '0'\n",
       "61. '0'\n",
       "62. '0'\n",
       "63. '1'\n",
       "64. '0'\n",
       "65. '1'\n",
       "66. '1'\n",
       "\n",
       "\n"
      ],
      "text/plain": [
       "       Ones GTA[TC]GG[GA]TG TTTTTTTTC ATGT[AG]TGGG TT[TC]TTTTTT\n",
       "RPL10  \"1\"  \"0\"             \"2\"       \"0\"          \"1\"         \n",
       "RPL11B \"1\"  \"1\"             \"1\"       \"1\"          \"0\"         \n",
       "RPL12A \"1\"  \"0\"             \"0\"       \"1\"          \"0\"         \n",
       "RPL13A \"1\"  \"1\"             \"2\"       \"1\"          \"1\"         \n",
       "RPL13B \"1\"  \"2\"             \"1\"       \"1\"          \"0\"         \n",
       "RPL14A \"1\"  \"1\"             \"2\"       \"1\"          \"0\"         \n",
       "       [TG]C[CG]GCCT[AG][GC] ATC[CT]GTACA TTTTTC[AC]A CCCGGCCC GGCCCTGGC\n",
       "RPL10  \"0\"                   \"0\"          \"0\"         \"0\"      \"0\"      \n",
       "RPL11B \"0\"                   \"0\"          \"0\"         \"0\"      \"0\"      \n",
       "RPL12A \"2\"                   \"1\"          \"0\"         \"0\"      \"0\"      \n",
       "RPL13A \"2\"                   \"0\"          \"2\"         \"0\"      \"0\"      \n",
       "RPL13B \"1\"                   \"1\"          \"0\"         \"0\"      \"0\"      \n",
       "RPL14A \"1\"                   \"1\"          \"1\"         \"0\"      \"0\"      \n",
       "       [TC][CG][GC]CGCGTC\n",
       "RPL10  \"0\"               \n",
       "RPL11B \"0\"               \n",
       "RPL12A \"1\"               \n",
       "RPL13A \"0\"               \n",
       "RPL13B \"1\"               \n",
       "RPL14A \"1\"               "
      ]
     },
     "execution_count": 3,
     "metadata": {},
     "output_type": "execute_result"
    }
   ],
   "source": [
    "#Adding ones to first column for the estimation step\n",
    "featureMatrix=cbind(rep(1,nrow(featureMatrix)),featureMatrix)\n",
    "colnames(featureMatrix)=c(\"Ones\",motifs)\n",
    "#Printing a Sample to See if everything is correct\n",
    "head(featureMatrix)"
   ]
  },
  {
   "cell_type": "markdown",
   "metadata": {},
   "source": [
    "Reading in expression values recorded for training set"
   ]
  },
  {
   "cell_type": "code",
   "execution_count": 4,
   "metadata": {
    "collapsed": false
   },
   "outputs": [
    {
     "data": {
      "text/html": [
       "<table>\n",
       "<thead><tr><th></th><th scope=col>V1</th><th scope=col>V2</th></tr></thead>\n",
       "<tbody>\n",
       "\t<tr><th scope=row>1</th><td>RPL10</td><td>2.84</td></tr>\n",
       "\t<tr><th scope=row>2</th><td>RPL11B</td><td>1.59</td></tr>\n",
       "\t<tr><th scope=row>3</th><td>RPL12A</td><td>0.92</td></tr>\n",
       "\t<tr><th scope=row>4</th><td>RPL13A</td><td>1.2</td></tr>\n",
       "\t<tr><th scope=row>5</th><td>RPL13B</td><td>1.66</td></tr>\n",
       "\t<tr><th scope=row>6</th><td>RPL14A</td><td>1.62</td></tr>\n",
       "</tbody>\n",
       "</table>\n"
      ],
      "text/latex": [
       "\\begin{tabular}{r|ll}\n",
       "  & V1 & V2\\\\\n",
       "\\hline\n",
       "\t1 & RPL10 & 2.84\\\\\n",
       "\t2 & RPL11B & 1.59\\\\\n",
       "\t3 & RPL12A & 0.92\\\\\n",
       "\t4 & RPL13A & 1.2\\\\\n",
       "\t5 & RPL13B & 1.66\\\\\n",
       "\t6 & RPL14A & 1.62\\\\\n",
       "\\end{tabular}\n"
      ],
      "text/plain": [
       "      V1   V2\n",
       "1  RPL10 2.84\n",
       "2 RPL11B 1.59\n",
       "3 RPL12A 0.92\n",
       "4 RPL13A 1.20\n",
       "5 RPL13B 1.66\n",
       "6 RPL14A 1.62"
      ]
     },
     "execution_count": 4,
     "metadata": {},
     "output_type": "execute_result"
    }
   ],
   "source": [
    "expressionValues=read.table(\"DREAM6_ExPred_PromoterActivities.txt\",header=FALSE)\n",
    "head(expressionValues)\n",
    "promoterNames=expressionValues[,1]\n",
    "expressionValues=expressionValues[,-1]"
   ]
  },
  {
   "cell_type": "markdown",
   "metadata": {},
   "source": [
    "Now that we have both the Feature matrix X and the observed values y we can use Normal Equations to find the closed form solution. Normal Equations are feasible in this case because the number of features are not very large.\n",
    "\n",
    "The parameter vector theta can be estimated as follows:\n",
    "$$ \\theta= (X^{T}X)^{-1}X^{T}y$$"
   ]
  },
  {
   "cell_type": "code",
   "execution_count": 5,
   "metadata": {
    "collapsed": false
   },
   "outputs": [
    {
     "data": {
      "text/html": [
       "<table>\n",
       "<thead><tr><th></th><th scope=col>Ones</th><th scope=col>GTA[TC]GG[GA]TG</th><th scope=col>TTTTTTTTC</th><th scope=col>ATGT[AG]TGGG</th><th scope=col>TT[TC]TTTTTT</th><th scope=col>[TG]C[CG]GCCT[AG][GC]</th><th scope=col>ATC[CT]GTACA</th><th scope=col>TTTTTC[AC]A</th><th scope=col>CCCGGCCC</th><th scope=col>GGCCCTGGC</th><th scope=col>[TC][CG][GC]CGCGTC</th></tr></thead>\n",
       "<tbody>\n",
       "\t<tr><th scope=row>RPL10</th><td>1</td><td>0</td><td>2</td><td>0</td><td>1</td><td>0</td><td>0</td><td>0</td><td>0</td><td>0</td><td>0</td></tr>\n",
       "\t<tr><th scope=row>RPL11B</th><td>1</td><td>1</td><td>1</td><td>1</td><td>0</td><td>0</td><td>0</td><td>0</td><td>0</td><td>0</td><td>0</td></tr>\n",
       "\t<tr><th scope=row>RPL12A</th><td>1</td><td>0</td><td>0</td><td>1</td><td>0</td><td>2</td><td>1</td><td>0</td><td>0</td><td>0</td><td>1</td></tr>\n",
       "\t<tr><th scope=row>RPL13A</th><td>1</td><td>1</td><td>2</td><td>1</td><td>1</td><td>2</td><td>0</td><td>2</td><td>0</td><td>0</td><td>0</td></tr>\n",
       "\t<tr><th scope=row>RPL13B</th><td>1</td><td>2</td><td>1</td><td>1</td><td>0</td><td>1</td><td>1</td><td>0</td><td>0</td><td>0</td><td>1</td></tr>\n",
       "\t<tr><th scope=row>RPL14A</th><td>1</td><td>1</td><td>2</td><td>1</td><td>0</td><td>1</td><td>1</td><td>1</td><td>0</td><td>0</td><td>1</td></tr>\n",
       "</tbody>\n",
       "</table>\n"
      ],
      "text/latex": [
       "\\begin{tabular}{r|lllllllllll}\n",
       "  & Ones & GTA[TC]GG[GA]TG & TTTTTTTTC & ATGT[AG]TGGG & TT[TC]TTTTTT & [TG]C[CG]GCCT[AG][GC] & ATC[CT]GTACA & TTTTTC[AC]A & CCCGGCCC & GGCCCTGGC & [TC][CG][GC]CGCGTC\\\\\n",
       "\\hline\n",
       "\tRPL10 & 1 & 0 & 2 & 0 & 1 & 0 & 0 & 0 & 0 & 0 & 0\\\\\n",
       "\tRPL11B & 1 & 1 & 1 & 1 & 0 & 0 & 0 & 0 & 0 & 0 & 0\\\\\n",
       "\tRPL12A & 1 & 0 & 0 & 1 & 0 & 2 & 1 & 0 & 0 & 0 & 1\\\\\n",
       "\tRPL13A & 1 & 1 & 2 & 1 & 1 & 2 & 0 & 2 & 0 & 0 & 0\\\\\n",
       "\tRPL13B & 1 & 2 & 1 & 1 & 0 & 1 & 1 & 0 & 0 & 0 & 1\\\\\n",
       "\tRPL14A & 1 & 1 & 2 & 1 & 0 & 1 & 1 & 1 & 0 & 0 & 1\\\\\n",
       "\\end{tabular}\n"
      ],
      "text/markdown": [
       "1. 1\n",
       "2. 1\n",
       "3. 1\n",
       "4. 1\n",
       "5. 1\n",
       "6. 1\n",
       "7. 0\n",
       "8. 1\n",
       "9. 0\n",
       "10. 1\n",
       "11. 2\n",
       "12. 1\n",
       "13. 2\n",
       "14. 1\n",
       "15. 0\n",
       "16. 2\n",
       "17. 1\n",
       "18. 2\n",
       "19. 0\n",
       "20. 1\n",
       "21. 1\n",
       "22. 1\n",
       "23. 1\n",
       "24. 1\n",
       "25. 1\n",
       "26. 0\n",
       "27. 0\n",
       "28. 1\n",
       "29. 0\n",
       "30. 0\n",
       "31. 0\n",
       "32. 0\n",
       "33. 2\n",
       "34. 2\n",
       "35. 1\n",
       "36. 1\n",
       "37. 0\n",
       "38. 0\n",
       "39. 1\n",
       "40. 0\n",
       "41. 1\n",
       "42. 1\n",
       "43. 0\n",
       "44. 0\n",
       "45. 0\n",
       "46. 2\n",
       "47. 0\n",
       "48. 1\n",
       "49. 0\n",
       "50. 0\n",
       "51. 0\n",
       "52. 0\n",
       "53. 0\n",
       "54. 0\n",
       "55. 0\n",
       "56. 0\n",
       "57. 0\n",
       "58. 0\n",
       "59. 0\n",
       "60. 0\n",
       "61. 0\n",
       "62. 0\n",
       "63. 1\n",
       "64. 0\n",
       "65. 1\n",
       "66. 1\n",
       "\n",
       "\n"
      ],
      "text/plain": [
       "       Ones GTA[TC]GG[GA]TG TTTTTTTTC ATGT[AG]TGGG TT[TC]TTTTTT\n",
       "RPL10     1               0         2            0            1\n",
       "RPL11B    1               1         1            1            0\n",
       "RPL12A    1               0         0            1            0\n",
       "RPL13A    1               1         2            1            1\n",
       "RPL13B    1               2         1            1            0\n",
       "RPL14A    1               1         2            1            0\n",
       "       [TG]C[CG]GCCT[AG][GC] ATC[CT]GTACA TTTTTC[AC]A CCCGGCCC GGCCCTGGC\n",
       "RPL10                      0            0           0        0         0\n",
       "RPL11B                     0            0           0        0         0\n",
       "RPL12A                     2            1           0        0         0\n",
       "RPL13A                     2            0           2        0         0\n",
       "RPL13B                     1            1           0        0         0\n",
       "RPL14A                     1            1           1        0         0\n",
       "       [TC][CG][GC]CGCGTC\n",
       "RPL10                   0\n",
       "RPL11B                  0\n",
       "RPL12A                  1\n",
       "RPL13A                  0\n",
       "RPL13B                  1\n",
       "RPL14A                  1"
      ]
     },
     "execution_count": 5,
     "metadata": {},
     "output_type": "execute_result"
    }
   ],
   "source": [
    "featureMatrix=t(apply(featureMatrix,1,strtoi))\n",
    "colnames(featureMatrix)=colnames(featureMatrix)=c(\"Ones\",motifs)\n",
    "#Printing a sample to see if everything is ok\n",
    "head(featureMatrix)"
   ]
  },
  {
   "cell_type": "code",
   "execution_count": 6,
   "metadata": {
    "collapsed": false
   },
   "outputs": [
    {
     "name": "stdout",
     "output_type": "stream",
     "text": [
      "              [,1]\n",
      " [1,]  1.691091520\n",
      " [2,]  0.037912910\n",
      " [3,]  0.118572795\n",
      " [4,] -0.184852803\n",
      " [5,]  0.086321790\n",
      " [6,] -0.129624600\n",
      " [7,] -0.081866230\n",
      " [8,]  0.007193555\n",
      " [9,] -0.070986256\n",
      "[10,] -0.378224878\n",
      "[11,] -0.133789078\n"
     ]
    }
   ],
   "source": [
    "#Using standard Notation\n",
    "X=featureMatrix\n",
    "y=expressionValues\n",
    "theta=solve(t(X)%*%(X))%*%t(X)%*%y\n",
    "rownames(theta)= NULL \n",
    "#Printing calculated Values of Theta\n",
    "print(theta)"
   ]
  },
  {
   "cell_type": "markdown",
   "metadata": {},
   "source": [
    "Reading in prediction matrix"
   ]
  },
  {
   "cell_type": "code",
   "execution_count": 7,
   "metadata": {
    "collapsed": true
   },
   "outputs": [],
   "source": [
    "predictionMatrix=read.csv(\"testing_matrix.csv\",header=TRUE)"
   ]
  },
  {
   "cell_type": "markdown",
   "metadata": {},
   "source": [
    "Modifying predictionMatrix to a more friendly format"
   ]
  },
  {
   "cell_type": "code",
   "execution_count": 8,
   "metadata": {
    "collapsed": false
   },
   "outputs": [
    {
     "name": "stdout",
     "output_type": "stream",
     "text": [
      " [1] \"GTA[TC]GG[GA]TG\"       \"TTTTTTTTC\"             \"ATGT[AG]TGGG\"         \n",
      " [4] \"TT[TC]TTTTTT\"          \"[TG]C[CG]GCCT[AG][GC]\" \"ATC[CT]GTACA\"         \n",
      " [7] \"TTTTTC[AC]A\"           \"CCCGGCCC\"              \"GGCCCTGGC\"            \n",
      "[10] \"[TC][CG][GC]CGCGTC\"   \n"
     ]
    },
    {
     "data": {
      "text/html": [
       "<table>\n",
       "<thead><tr><th></th><th scope=col>Ones</th><th scope=col>GTA[TC]GG[GA]TG</th><th scope=col>TTTTTTTTC</th><th scope=col>ATGT[AG]TGGG</th><th scope=col>TT[TC]TTTTTT</th><th scope=col>[TG]C[CG]GCCT[AG][GC]</th><th scope=col>ATC[CT]GTACA</th><th scope=col>TTTTTC[AC]A</th><th scope=col>CCCGGCCC</th><th scope=col>GGCCCTGGC</th><th scope=col>[TC][CG][GC]CGCGTC</th></tr></thead>\n",
       "<tbody>\n",
       "\t<tr><th scope=row>RPL11A</th><td>1</td><td>1</td><td>2</td><td>0</td><td>2</td><td>0</td><td>0</td><td>0</td><td>0</td><td>0</td><td>0</td></tr>\n",
       "\t<tr><th scope=row>RPL12B</th><td>1</td><td>0</td><td>0</td><td>0</td><td>0</td><td>0</td><td>0</td><td>0</td><td>0</td><td>0</td><td>0</td></tr>\n",
       "\t<tr><th scope=row>RPL21A</th><td>1</td><td>0</td><td>0</td><td>0</td><td>0</td><td>0</td><td>0</td><td>0</td><td>0</td><td>0</td><td>0</td></tr>\n",
       "\t<tr><th scope=row>RPL21B</th><td>1</td><td>0</td><td>0</td><td>0</td><td>0</td><td>0</td><td>0</td><td>0</td><td>0</td><td>0</td><td>0</td></tr>\n",
       "\t<tr><th scope=row>RPL26A</th><td>1</td><td>0</td><td>1</td><td>1</td><td>1</td><td>0</td><td>1</td><td>0</td><td>0</td><td>0</td><td>0</td></tr>\n",
       "\t<tr><th scope=row>RPL28</th><td>1</td><td>0</td><td>0</td><td>0</td><td>0</td><td>0</td><td>1</td><td>0</td><td>0</td><td>0</td><td>0</td></tr>\n",
       "</tbody>\n",
       "</table>\n"
      ],
      "text/latex": [
       "\\begin{tabular}{r|lllllllllll}\n",
       "  & Ones & GTA[TC]GG[GA]TG & TTTTTTTTC & ATGT[AG]TGGG & TT[TC]TTTTTT & [TG]C[CG]GCCT[AG][GC] & ATC[CT]GTACA & TTTTTC[AC]A & CCCGGCCC & GGCCCTGGC & [TC][CG][GC]CGCGTC\\\\\n",
       "\\hline\n",
       "\tRPL11A & 1 & 1 & 2 & 0 & 2 & 0 & 0 & 0 & 0 & 0 & 0\\\\\n",
       "\tRPL12B & 1 & 0 & 0 & 0 & 0 & 0 & 0 & 0 & 0 & 0 & 0\\\\\n",
       "\tRPL21A & 1 & 0 & 0 & 0 & 0 & 0 & 0 & 0 & 0 & 0 & 0\\\\\n",
       "\tRPL21B & 1 & 0 & 0 & 0 & 0 & 0 & 0 & 0 & 0 & 0 & 0\\\\\n",
       "\tRPL26A & 1 & 0 & 1 & 1 & 1 & 0 & 1 & 0 & 0 & 0 & 0\\\\\n",
       "\tRPL28 & 1 & 0 & 0 & 0 & 0 & 0 & 1 & 0 & 0 & 0 & 0\\\\\n",
       "\\end{tabular}\n"
      ],
      "text/markdown": [
       "1. 1\n",
       "2. 1\n",
       "3. 1\n",
       "4. 1\n",
       "5. 1\n",
       "6. 1\n",
       "7. 1\n",
       "8. 0\n",
       "9. 0\n",
       "10. 0\n",
       "11. 0\n",
       "12. 0\n",
       "13. 2\n",
       "14. 0\n",
       "15. 0\n",
       "16. 0\n",
       "17. 1\n",
       "18. 0\n",
       "19. 0\n",
       "20. 0\n",
       "21. 0\n",
       "22. 0\n",
       "23. 1\n",
       "24. 0\n",
       "25. 2\n",
       "26. 0\n",
       "27. 0\n",
       "28. 0\n",
       "29. 1\n",
       "30. 0\n",
       "31. 0\n",
       "32. 0\n",
       "33. 0\n",
       "34. 0\n",
       "35. 0\n",
       "36. 0\n",
       "37. 0\n",
       "38. 0\n",
       "39. 0\n",
       "40. 0\n",
       "41. 1\n",
       "42. 1\n",
       "43. 0\n",
       "44. 0\n",
       "45. 0\n",
       "46. 0\n",
       "47. 0\n",
       "48. 0\n",
       "49. 0\n",
       "50. 0\n",
       "51. 0\n",
       "52. 0\n",
       "53. 0\n",
       "54. 0\n",
       "55. 0\n",
       "56. 0\n",
       "57. 0\n",
       "58. 0\n",
       "59. 0\n",
       "60. 0\n",
       "61. 0\n",
       "62. 0\n",
       "63. 0\n",
       "64. 0\n",
       "65. 0\n",
       "66. 0\n",
       "\n",
       "\n"
      ],
      "text/plain": [
       "       Ones GTA[TC]GG[GA]TG TTTTTTTTC ATGT[AG]TGGG TT[TC]TTTTTT\n",
       "RPL11A    1               1         2            0            2\n",
       "RPL12B    1               0         0            0            0\n",
       "RPL21A    1               0         0            0            0\n",
       "RPL21B    1               0         0            0            0\n",
       "RPL26A    1               0         1            1            1\n",
       "RPL28     1               0         0            0            0\n",
       "       [TG]C[CG]GCCT[AG][GC] ATC[CT]GTACA TTTTTC[AC]A CCCGGCCC GGCCCTGGC\n",
       "RPL11A                     0            0           0        0         0\n",
       "RPL12B                     0            0           0        0         0\n",
       "RPL21A                     0            0           0        0         0\n",
       "RPL21B                     0            0           0        0         0\n",
       "RPL26A                     0            1           0        0         0\n",
       "RPL28                      0            1           0        0         0\n",
       "       [TC][CG][GC]CGCGTC\n",
       "RPL11A                  0\n",
       "RPL12B                  0\n",
       "RPL21A                  0\n",
       "RPL21B                  0\n",
       "RPL26A                  0\n",
       "RPL28                   0"
      ]
     },
     "execution_count": 8,
     "metadata": {},
     "output_type": "execute_result"
    }
   ],
   "source": [
    "predictionMatrix=t(predictionMatrix)\n",
    "motifs=predictionMatrix[1,]\n",
    "predictionMatrix=predictionMatrix[-1,]\n",
    "predictionMatrix=t(apply(predictionMatrix,1,strtoi))\n",
    "#Adding ones as an extra column in the input Matrix\n",
    "predictionMatrix=cbind(rep(1,nrow(predictionMatrix)),predictionMatrix)\n",
    "colnames(predictionMatrix)=c(\"Ones\",motifs)\n",
    "#Seeing what the Motifs are.\n",
    "print(motifs)\n",
    "#Printing a sample to see if everything was done correctly\n",
    "head(predictionMatrix)"
   ]
  },
  {
   "cell_type": "code",
   "execution_count": 24,
   "metadata": {
    "collapsed": false
   },
   "outputs": [
    {
     "data": {
      "text/html": [
       "<table>\n",
       "<thead><tr><th scope=col>RPL11A</th><th scope=col>RPL12B</th><th scope=col>RPL21A</th><th scope=col>RPL21B</th><th scope=col>RPL26A</th><th scope=col>RPL28</th><th scope=col>RPL35B</th><th scope=col>RPL37A</th><th scope=col>RPL37B</th><th scope=col>RPL42A</th><th scope=col></th><th scope=col>RPL7B_Mut1</th><th scope=col>RPL7B_Mut2</th><th scope=col>RPL8A_Mut1</th><th scope=col>RPL8A_Mut2</th><th scope=col>RPL8A_Mut3</th><th scope=col>RPP1B_Mut1</th><th scope=col>RPS12_Mut1</th><th scope=col>RPS14B_Mut1</th><th scope=col>RPS20_Mut1</th><th scope=col>RPS9A_Mut1</th></tr></thead>\n",
       "<tbody>\n",
       "\t<tr><td>2.1387936013599 </td><td>1.69109152015517</td><td>1.69109152015517</td><td>1.69109152015517</td><td>1.62926707213444</td><td>1.6092252897616 </td><td>1.80966431523884</td><td>1.73225364476081</td><td>1.89598610554795</td><td>1.77741331046428</td><td>⋯               </td><td>1.61641884486677</td><td>1.6092252897616 </td><td>1.89598610554795</td><td>1.89598610554795</td><td>1.89598610554795</td><td>1.6092252897616 </td><td>1.6092252897616 </td><td>1.69109152015517</td><td>1.69109152015517</td><td>1.77741331046428</td></tr>\n",
       "</tbody>\n",
       "</table>\n"
      ],
      "text/latex": [
       "\\begin{tabular}{lllllllllllllllllllllllllllllllllllllllllllllllllllll}\n",
       " RPL11A & RPL12B & RPL21A & RPL21B & RPL26A & RPL28 & RPL35B & RPL37A & RPL37B & RPL42A &  & RPL7B_Mut1 & RPL7B_Mut2 & RPL8A_Mut1 & RPL8A_Mut2 & RPL8A_Mut3 & RPP1B_Mut1 & RPS12_Mut1 & RPS14B_Mut1 & RPS20_Mut1 & RPS9A_Mut1\\\\\n",
       "\\hline\n",
       "\t 2.1387936013599  & 1.69109152015517 & 1.69109152015517 & 1.69109152015517 & 1.62926707213444 & 1.6092252897616  & 1.80966431523884 & 1.73225364476081 & 1.89598610554795 & 1.77741331046428 & ⋯                & 1.61641884486677 & 1.6092252897616  & 1.89598610554795 & 1.89598610554795 & 1.89598610554795 & 1.6092252897616  & 1.6092252897616  & 1.69109152015517 & 1.69109152015517 & 1.77741331046428\\\\\n",
       "\\end{tabular}\n"
      ],
      "text/markdown": [
       "1. 2.1387936013599\n",
       "2. 1.69109152015517\n",
       "3. 1.69109152015517\n",
       "4. 1.69109152015517\n",
       "5. 1.62926707213444\n",
       "6. 1.6092252897616\n",
       "7. 1.80966431523884\n",
       "8. 1.73225364476081\n",
       "9. 1.89598610554795\n",
       "10. 1.77741331046428\n",
       "11. 1.6092252897616\n",
       "12. 1.61414117275984\n",
       "13. 1.47543621188866\n",
       "14. 1.69828507526034\n",
       "15. 1.82405142544917\n",
       "16. 1.56146692047786\n",
       "17. 1.89598610554795\n",
       "18. 1.69554708007071\n",
       "19. 1.69828507526034\n",
       "20. 1.52735905936803\n",
       "21. 1.98230789585706\n",
       "22. 1.98230789585706\n",
       "23. 1.98230789585706\n",
       "24. 1.69109152015517\n",
       "25. 1.42891413808742\n",
       "26. 1.80966431523884\n",
       "27. 1.69828507526034\n",
       "28. 1.78460686556945\n",
       "29. 1.69828507526034\n",
       "30. 1.78460686556945\n",
       "31. 2.07582324127133\n",
       "32. 2.07582324127133\n",
       "33. 1.98950145096222\n",
       "34. 1.77741331046428\n",
       "35. 1.58453777976024\n",
       "36. 1.58453777976024\n",
       "37. 1.69109152015517\n",
       "38. 1.816857870344\n",
       "39. 1.816857870344\n",
       "40. 1.816857870344\n",
       "41. 1.69828507526034\n",
       "42. 1.816857870344\n",
       "43. 1.816857870344\n",
       "44. 1.61641884486677\n",
       "45. 1.6092252897616\n",
       "46. 1.89598610554795\n",
       "47. 1.89598610554795\n",
       "48. 1.89598610554795\n",
       "49. 1.6092252897616\n",
       "50. 1.6092252897616\n",
       "51. 1.69109152015517\n",
       "52. 1.69109152015517\n",
       "53. 1.77741331046428\n",
       "\n",
       "\n"
      ],
      "text/plain": [
       "       RPL11A   RPL12B   RPL21A   RPL21B   RPL26A    RPL28   RPL35B   RPL37A\n",
       "[1,] 2.138794 1.691092 1.691092 1.691092 1.629267 1.609225 1.809664 1.732254\n",
       "       RPL37B   RPL42A    RPL6A   RPS10B    RPS15   RPS17B   RPS19B   RPS22A\n",
       "[1,] 1.895986 1.777413 1.609225 1.614141 1.475436 1.698285 1.824051 1.561467\n",
       "       RPS28A   RPS30A     RPS5    RPS9B RPL10_Mut1 RPL10_Mut2 RPL10_Mut3\n",
       "[1,] 1.895986 1.695547 1.698285 1.527359   1.982308   1.982308   1.982308\n",
       "     RPL10_Mut4 RPL13A_Mut1 RPL14B_Mut1 RPL15A_Mut1 RPL15A_Mut2 RPL3_Mut1\n",
       "[1,]   1.691092    1.428914    1.809664    1.698285    1.784607  1.698285\n",
       "     RPL3_Mut2 RPL3_Mut3 RPL3_Mut4 RPL3_Mut5 RPL36B_Mut1 RPL39_Mut1 RPL39_Mut2\n",
       "[1,]  1.784607  2.075823  2.075823  1.989501    1.777413   1.584538   1.584538\n",
       "     RPL41B_Mut1 RPL4A_Mut1 RPL4A_Mut2 RPL4A_Mut3 RPL4A_Mut4 RPL4A_Mut5\n",
       "[1,]    1.691092   1.816858   1.816858   1.816858   1.698285   1.816858\n",
       "     RPL4A_Mut6 RPL7B_Mut1 RPL7B_Mut2 RPL8A_Mut1 RPL8A_Mut2 RPL8A_Mut3\n",
       "[1,]   1.816858   1.616419   1.609225   1.895986   1.895986   1.895986\n",
       "     RPP1B_Mut1 RPS12_Mut1 RPS14B_Mut1 RPS20_Mut1 RPS9A_Mut1\n",
       "[1,]   1.609225   1.609225    1.691092   1.691092   1.777413"
      ]
     },
     "execution_count": 24,
     "metadata": {},
     "output_type": "execute_result"
    },
    {
     "data": {
      "text/html": [
       "<ol class=list-inline>\n",
       "\t<li>1</li>\n",
       "\t<li>53</li>\n",
       "</ol>\n"
      ],
      "text/latex": [
       "\\begin{enumerate*}\n",
       "\\item 1\n",
       "\\item 53\n",
       "\\end{enumerate*}\n"
      ],
      "text/markdown": [
       "1. 1\n",
       "2. 53\n",
       "\n",
       "\n"
      ],
      "text/plain": [
       "[1]  1 53"
      ]
     },
     "execution_count": 24,
     "metadata": {},
     "output_type": "execute_result"
    }
   ],
   "source": [
    "#Printing predicted values:\n",
    "predictedExpressionValues=t(theta)%*%t(predictionMatrix)\n",
    "head(predictedExpressionValues)\n",
    "dim(predictedExpressionValues)"
   ]
  },
  {
   "cell_type": "code",
   "execution_count": null,
   "metadata": {
    "collapsed": true
   },
   "outputs": [],
   "source": []
  }
 ],
 "metadata": {
  "kernelspec": {
   "display_name": "R",
   "language": "R",
   "name": "ir"
  },
  "language_info": {
   "codemirror_mode": "r",
   "file_extension": ".r",
   "mimetype": "text/x-r-source",
   "name": "R",
   "pygments_lexer": "r",
   "version": "3.2.3"
  }
 },
 "nbformat": 4,
 "nbformat_minor": 0
}
